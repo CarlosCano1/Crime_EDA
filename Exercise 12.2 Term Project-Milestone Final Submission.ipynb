{
 "cells": [
  {
   "cell_type": "code",
   "execution_count": 1,
   "id": "0beba3f6-ea2c-4139-831c-23e4c9813988",
   "metadata": {},
   "outputs": [],
   "source": [
    "## DSC 550\n",
    "## Carlos Cano\n",
    "## Activity 10.2"
   ]
  },
  {
   "cell_type": "code",
   "execution_count": 2,
   "id": "d59cb1c3-06d0-488d-a34d-0fe51917b395",
   "metadata": {},
   "outputs": [],
   "source": [
    "## ** ---------- **"
   ]
  },
  {
   "cell_type": "code",
   "execution_count": 3,
   "id": "26f5d776-b3fe-404b-ab3e-2b4c3760c3e9",
   "metadata": {},
   "outputs": [
    {
     "name": "stdout",
     "output_type": "stream",
     "text": [
      "** ----------- **\n",
      "** Milestone 1 **\n",
      "** ----------- **\n"
     ]
    }
   ],
   "source": [
    "print('** ----------- **')\n",
    "print('** Milestone 1 **')\n",
    "print('** ----------- **')"
   ]
  },
  {
   "cell_type": "code",
   "execution_count": 4,
   "id": "41cae342-3eb4-4119-8fb0-21620ae23a0f",
   "metadata": {},
   "outputs": [],
   "source": [
    "## ** ---------- **"
   ]
  },
  {
   "cell_type": "code",
   "execution_count": 5,
   "id": "caeeb6c3-d4a1-4e57-b684-56ac56c369a3",
   "metadata": {},
   "outputs": [],
   "source": [
    "## Begin Milestone 1 with a 250-500-word narrative describing your original idea for the analysis/model building business problem. \n",
    "## Clearly identify the problem you will address and the target for your model."
   ]
  },
  {
   "cell_type": "code",
   "execution_count": 6,
   "id": "4a3d5a6d-ccde-4175-9b5f-f97befb86150",
   "metadata": {},
   "outputs": [],
   "source": [
    "## Then, do a graphical analysis creating a minimum of four graphs.\n",
    "## Label your graphs appropriately and explain/analyze the information provided by each graph.\n",
    "## Your analysis should begin to answer the question(s) you are addressing."
   ]
  },
  {
   "cell_type": "raw",
   "id": "9d8151c9-bb4b-4973-b9cf-f5592b712725",
   "metadata": {},
   "source": [
    "## Import Libraries"
   ]
  },
  {
   "cell_type": "code",
   "execution_count": 7,
   "id": "e91e6c54-7837-4f3a-9d85-9ac8c4a27539",
   "metadata": {},
   "outputs": [],
   "source": [
    "import numpy as np\n",
    "import pandas as pd\n",
    "\n",
    "import matplotlib.pyplot as plt\n",
    "\n",
    "from scipy.stats import norm\n",
    "\n",
    "import seaborn as sns"
   ]
  },
  {
   "cell_type": "code",
   "execution_count": 8,
   "id": "a3a4cfda-0e89-468f-aac8-167343c5c1c3",
   "metadata": {},
   "outputs": [],
   "source": [
    "from sklearn.model_selection import train_test_split\n",
    "from sklearn.pipeline import Pipeline\n",
    "from sklearn.preprocessing import MinMaxScaler\n",
    "from sklearn.neighbors import KNeighborsClassifier\n",
    "from sklearn.model_selection import GridSearchCV\n",
    "from sklearn.linear_model import LogisticRegression\n",
    "from sklearn.ensemble import RandomForestClassifier"
   ]
  },
  {
   "cell_type": "code",
   "execution_count": 9,
   "id": "e0275d48-4e40-4b07-b5da-bac39f9f12ca",
   "metadata": {},
   "outputs": [],
   "source": [
    "from sklearn import linear_model\n",
    "import statsmodels.api as sm"
   ]
  },
  {
   "cell_type": "code",
   "execution_count": 10,
   "id": "ba3f4037-5359-4ff8-870b-cf7cee01caac",
   "metadata": {},
   "outputs": [],
   "source": [
    "df = pd.read_csv(\"Crime_Data_from_2020_to_Present.csv\")"
   ]
  },
  {
   "cell_type": "code",
   "execution_count": 11,
   "id": "8483921f-71e8-4696-97ff-46bde4f09e3f",
   "metadata": {},
   "outputs": [
    {
     "name": "stdout",
     "output_type": "stream",
     "text": [
      "<class 'pandas.core.frame.DataFrame'>\n",
      "RangeIndex: 815882 entries, 0 to 815881\n",
      "Data columns (total 28 columns):\n",
      " #   Column          Non-Null Count   Dtype  \n",
      "---  ------          --------------   -----  \n",
      " 0   DR_NO           815882 non-null  int64  \n",
      " 1   Date Rptd       815882 non-null  object \n",
      " 2   DATE OCC        815882 non-null  object \n",
      " 3   TIME OCC        815882 non-null  int64  \n",
      " 4   AREA            815882 non-null  int64  \n",
      " 5   AREA NAME       815882 non-null  object \n",
      " 6   Rpt Dist No     815882 non-null  int64  \n",
      " 7   Part 1-2        815882 non-null  int64  \n",
      " 8   Crm Cd          815882 non-null  int64  \n",
      " 9   Crm Cd Desc     815882 non-null  object \n",
      " 10  Mocodes         703120 non-null  object \n",
      " 11  Vict Age        815882 non-null  int64  \n",
      " 12  Vict Sex        708690 non-null  object \n",
      " 13  Vict Descent    708682 non-null  object \n",
      " 14  Premis Cd       815873 non-null  float64\n",
      " 15  Premis Desc     815402 non-null  object \n",
      " 16  Weapon Used Cd  284434 non-null  float64\n",
      " 17  Weapon Desc     284434 non-null  object \n",
      " 18  Status          815882 non-null  object \n",
      " 19  Status Desc     815882 non-null  object \n",
      " 20  Crm Cd 1        815872 non-null  float64\n",
      " 21  Crm Cd 2        60117 non-null   float64\n",
      " 22  Crm Cd 3        2013 non-null    float64\n",
      " 23  Crm Cd 4        59 non-null      float64\n",
      " 24  LOCATION        815882 non-null  object \n",
      " 25  Cross Street    130521 non-null  object \n",
      " 26  LAT             815882 non-null  float64\n",
      " 27  LON             815882 non-null  float64\n",
      "dtypes: float64(8), int64(7), object(13)\n",
      "memory usage: 174.3+ MB\n"
     ]
    }
   ],
   "source": [
    "df.info()"
   ]
  },
  {
   "cell_type": "code",
   "execution_count": 12,
   "id": "2c3be7e2-1c3b-4037-8728-f04948764361",
   "metadata": {},
   "outputs": [
    {
     "data": {
      "text/html": [
       "<div>\n",
       "<style scoped>\n",
       "    .dataframe tbody tr th:only-of-type {\n",
       "        vertical-align: middle;\n",
       "    }\n",
       "\n",
       "    .dataframe tbody tr th {\n",
       "        vertical-align: top;\n",
       "    }\n",
       "\n",
       "    .dataframe thead th {\n",
       "        text-align: right;\n",
       "    }\n",
       "</style>\n",
       "<table border=\"1\" class=\"dataframe\">\n",
       "  <thead>\n",
       "    <tr style=\"text-align: right;\">\n",
       "      <th></th>\n",
       "      <th>DR_NO</th>\n",
       "      <th>Date Rptd</th>\n",
       "      <th>DATE OCC</th>\n",
       "      <th>TIME OCC</th>\n",
       "      <th>AREA</th>\n",
       "      <th>AREA NAME</th>\n",
       "      <th>Rpt Dist No</th>\n",
       "      <th>Part 1-2</th>\n",
       "      <th>Crm Cd</th>\n",
       "      <th>Crm Cd Desc</th>\n",
       "      <th>...</th>\n",
       "      <th>Status</th>\n",
       "      <th>Status Desc</th>\n",
       "      <th>Crm Cd 1</th>\n",
       "      <th>Crm Cd 2</th>\n",
       "      <th>Crm Cd 3</th>\n",
       "      <th>Crm Cd 4</th>\n",
       "      <th>LOCATION</th>\n",
       "      <th>Cross Street</th>\n",
       "      <th>LAT</th>\n",
       "      <th>LON</th>\n",
       "    </tr>\n",
       "  </thead>\n",
       "  <tbody>\n",
       "    <tr>\n",
       "      <th>0</th>\n",
       "      <td>10304468</td>\n",
       "      <td>01/08/2020 12:00:00 AM</td>\n",
       "      <td>01/08/2020 12:00:00 AM</td>\n",
       "      <td>2230</td>\n",
       "      <td>3</td>\n",
       "      <td>Southwest</td>\n",
       "      <td>377</td>\n",
       "      <td>2</td>\n",
       "      <td>624</td>\n",
       "      <td>BATTERY - SIMPLE ASSAULT</td>\n",
       "      <td>...</td>\n",
       "      <td>AO</td>\n",
       "      <td>Adult Other</td>\n",
       "      <td>624.0</td>\n",
       "      <td>NaN</td>\n",
       "      <td>NaN</td>\n",
       "      <td>NaN</td>\n",
       "      <td>1100 W  39TH                         PL</td>\n",
       "      <td>NaN</td>\n",
       "      <td>34.0141</td>\n",
       "      <td>-118.2978</td>\n",
       "    </tr>\n",
       "  </tbody>\n",
       "</table>\n",
       "<p>1 rows × 28 columns</p>\n",
       "</div>"
      ],
      "text/plain": [
       "      DR_NO               Date Rptd                DATE OCC  TIME OCC  AREA  \\\n",
       "0  10304468  01/08/2020 12:00:00 AM  01/08/2020 12:00:00 AM      2230     3   \n",
       "\n",
       "   AREA NAME  Rpt Dist No  Part 1-2  Crm Cd               Crm Cd Desc  ...  \\\n",
       "0  Southwest          377         2     624  BATTERY - SIMPLE ASSAULT  ...   \n",
       "\n",
       "  Status  Status Desc Crm Cd 1 Crm Cd 2  Crm Cd 3 Crm Cd 4  \\\n",
       "0     AO  Adult Other    624.0      NaN       NaN      NaN   \n",
       "\n",
       "                                  LOCATION Cross Street      LAT       LON  \n",
       "0  1100 W  39TH                         PL          NaN  34.0141 -118.2978  \n",
       "\n",
       "[1 rows x 28 columns]"
      ]
     },
     "execution_count": 12,
     "metadata": {},
     "output_type": "execute_result"
    }
   ],
   "source": [
    "df.head(1)"
   ]
  },
  {
   "cell_type": "code",
   "execution_count": 13,
   "id": "44c5edc3-850f-4012-9e49-388cba38e405",
   "metadata": {},
   "outputs": [
    {
     "data": {
      "text/plain": [
       "Index(['DR_NO', 'Date Rptd', 'DATE OCC', 'TIME OCC', 'AREA', 'AREA NAME',\n",
       "       'Rpt Dist No', 'Part 1-2', 'Crm Cd', 'Crm Cd Desc', 'Mocodes',\n",
       "       'Vict Age', 'Vict Sex', 'Vict Descent', 'Premis Cd', 'Premis Desc',\n",
       "       'Weapon Used Cd', 'Weapon Desc', 'Status', 'Status Desc', 'Crm Cd 1',\n",
       "       'Crm Cd 2', 'Crm Cd 3', 'Crm Cd 4', 'LOCATION', 'Cross Street', 'LAT',\n",
       "       'LON'],\n",
       "      dtype='object')"
      ]
     },
     "execution_count": 13,
     "metadata": {},
     "output_type": "execute_result"
    }
   ],
   "source": [
    "df.columns"
   ]
  },
  {
   "cell_type": "code",
   "execution_count": 14,
   "id": "ddf8f224-daba-40ec-910f-f2b46950a22f",
   "metadata": {},
   "outputs": [
    {
     "data": {
      "image/png": "[encoded data removed]",
      "text/plain": [
       "<Figure size 2500x600 with 1 Axes>"
      ]
     },
     "metadata": {},
     "output_type": "display_data"
    }
   ],
   "source": [
    "plt.figure(figsize=(25,6))\n",
    "sns.countplot(x='AREA NAME', data=df)\n",
    "plt.title('Crime Area Distribution by Location & Count')\n",
    "plt.show()\n",
    "\n",
    "\n",
    "Size = df[['Crm Cd Desc','AREA NAME']].groupby(['Crm Cd Desc'], as_index=False).sum()\n",
    "#Size.sort_values(by=['Crm Cd Desc'],ascending=False).head(5)"
   ]
  },
  {
   "cell_type": "code",
   "execution_count": 15,
   "id": "a29b4d59-d199-4fb5-b2b2-12da11e5be05",
   "metadata": {},
   "outputs": [],
   "source": [
    "## This graph showcases the various areas within the reported data from Los Angeles Crime Dataset"
   ]
  },
  {
   "cell_type": "code",
   "execution_count": 16,
   "id": "20eaa54e-bd29-4a58-8e1f-cddd341757fd",
   "metadata": {},
   "outputs": [
    {
     "data": {
      "image/png": "[encoded data removed]",
      "text/plain": [
       "<Figure size 640x480 with 1 Axes>"
      ]
     },
     "metadata": {},
     "output_type": "display_data"
    }
   ],
   "source": [
    "df['Vict Sex'].value_counts().iloc[:3].plot(kind='bar', title='Victims by Sex');"
   ]
  },
  {
   "cell_type": "code",
   "execution_count": 17,
   "id": "055daacb-f403-40bf-b309-970b50559377",
   "metadata": {},
   "outputs": [],
   "source": [
    "## This graph explains the distribution of Victims by Sex within the Dataset, there seems to be a fairly level distribution from the reported cases with the exception of non M / F."
   ]
  },
  {
   "cell_type": "code",
   "execution_count": 18,
   "id": "451bada1-01b1-4557-a7ac-64abedbdd76e",
   "metadata": {},
   "outputs": [
    {
     "data": {
      "image/png": "[encoded data removed]",
      "text/plain": [
       "<Figure size 640x480 with 1 Axes>"
      ]
     },
     "metadata": {},
     "output_type": "display_data"
    }
   ],
   "source": [
    "df['Crm Cd Desc'].value_counts().iloc[:5].sort_values().plot(kind='barh',title=\"Top 5 Crimes\");"
   ]
  },
  {
   "cell_type": "code",
   "execution_count": 19,
   "id": "46008865-16af-4d23-b259-5e69bcddf82c",
   "metadata": {},
   "outputs": [],
   "source": [
    "## This graph highlights the top 5 crimes within Los Angeles from 2020-Current with a dataset of about 900,000 stolen vehicle appears to be about 10% of crimes."
   ]
  },
  {
   "cell_type": "code",
   "execution_count": 20,
   "id": "0988538a-a3b4-4af0-8980-59e8fd828891",
   "metadata": {},
   "outputs": [
    {
     "data": {
      "image/png": "[encoded data removed]",
      "text/plain": [
       "<Figure size 640x480 with 1 Axes>"
      ]
     },
     "metadata": {},
     "output_type": "display_data"
    }
   ],
   "source": [
    "df['AREA NAME'].value_counts().iloc[:5].sort_values().plot(kind='barh',title=\"Top 5 Areas with Crime by Count\");"
   ]
  },
  {
   "cell_type": "code",
   "execution_count": 21,
   "id": "19d70194-4076-4d64-8ab6-070601ce3685",
   "metadata": {},
   "outputs": [],
   "source": [
    "## This further elaborates on area, with a deeper look at the top 5 areas of reported crime. As noted in the global graph there was a fairly even distribution. Central Los Angeles, formally known as South Central alongside 77th Street make up over 10% of the reported crime for this dataset."
   ]
  },
  {
   "cell_type": "code",
   "execution_count": 22,
   "id": "8af7b929-0c10-4119-a876-f548ee683e11",
   "metadata": {},
   "outputs": [
    {
     "data": {
      "image/png": "[encoded data removed]",
      "text/plain": [
       "<Figure size 640x480 with 1 Axes>"
      ]
     },
     "metadata": {},
     "output_type": "display_data"
    }
   ],
   "source": [
    "df['Weapon Desc'].value_counts().iloc[:5].sort_values().plot(kind='barh',title=\"Top 5 Weapons Used in Crimes\");"
   ]
  },
  {
   "cell_type": "code",
   "execution_count": 23,
   "id": "e09aa483-ac98-4ee2-9b91-5b8fcec6fb65",
   "metadata": {},
   "outputs": [],
   "source": [
    "## This graph highlights the Top 5 Weapons reportedly used in crimes, with an outlier of Strong-Arm accounting for nearly 20% of reported crime. This quickly falls off for the other weapons."
   ]
  },
  {
   "cell_type": "code",
   "execution_count": 24,
   "id": "63773765-865a-415e-81eb-43203482990e",
   "metadata": {},
   "outputs": [
    {
     "data": {
      "image/png": "[encoded data removed]",
      "text/plain": [
       "<Figure size 2000x1000 with 4 Axes>"
      ]
     },
     "metadata": {},
     "output_type": "display_data"
    }
   ],
   "source": [
    "plt.rcParams['figure.figsize'] = (20, 10)\n",
    "\n",
    "fig, axes = plt.subplots(nrows = 2, ncols = 2)\n",
    "\n",
    "\n",
    "num_features = ['Rpt Dist No', 'Status', 'TIME OCC', 'Crm Cd']\n",
    "\n",
    "xaxes = num_features\n",
    "yaxes = ['Counts', 'Counts', 'Counts', 'Counts']\n",
    "\n",
    "axes = axes.ravel()\n",
    "for idx, ax in enumerate(axes):\n",
    "    ax.hist(df[num_features[idx]].dropna(), bins=40)\n",
    "    ax.set_xlabel(xaxes[idx], fontsize=20)\n",
    "    ax.set_ylabel(yaxes[idx], fontsize=20)\n",
    "    ax.tick_params(axis='both', labelsize=15)\n",
    "plt.show()"
   ]
  },
  {
   "cell_type": "code",
   "execution_count": 25,
   "id": "1be3c331-ee97-4444-82c5-7f5e7450a8ed",
   "metadata": {},
   "outputs": [],
   "source": [
    "## These graphs were used to gain insight to other integer type variables and their distributions, of particular interest is increases in reported crime at midnight and 12 o clock pm."
   ]
  },
  {
   "cell_type": "code",
   "execution_count": 26,
   "id": "56ff0957-7abe-4a49-80a9-9df61b926556",
   "metadata": {},
   "outputs": [
    {
     "data": {
      "image/png": "[encoded data removed]",
      "text/plain": [
       "<Figure size 2000x1000 with 1 Axes>"
      ]
     },
     "metadata": {},
     "output_type": "display_data"
    }
   ],
   "source": [
    "df['Crm Cd'].value_counts().iloc[:3].sort_values().plot(kind='barh',title=\"Top 3 Crime Codes\");"
   ]
  },
  {
   "cell_type": "code",
   "execution_count": 27,
   "id": "37052e3f-5a26-461e-97fa-b0b24be16782",
   "metadata": {},
   "outputs": [],
   "source": [
    "# This graph highlights the Top 3 reported crimes by their code. 510: Speeding or Racing | 624: Battery Simmple Assault | 354: Theft of ID, this was a offshoot from the multi-variable graphset previous to this."
   ]
  },
  {
   "cell_type": "code",
   "execution_count": null,
   "id": "d8bf89eb-7ab8-4b72-a6a5-569b7cba3175",
   "metadata": {},
   "outputs": [],
   "source": []
  },
  {
   "cell_type": "code",
   "execution_count": 28,
   "id": "86b040b8-55f8-4c5a-a951-3f22642f371f",
   "metadata": {},
   "outputs": [],
   "source": [
    "## Write a short overview/conclusion of the insights gained from your graphical analysis."
   ]
  },
  {
   "cell_type": "code",
   "execution_count": 29,
   "id": "812b9b15-5c12-422e-a4e5-857abb049538",
   "metadata": {},
   "outputs": [],
   "source": [
    "# There was some definite insight garnered through this graphical analysis, as noted in each section. Area, Time OCC, and Crm Cd stood out as data of particular note from this graphical analysis."
   ]
  },
  {
   "cell_type": "code",
   "execution_count": 30,
   "id": "455f222e-8e65-4114-b996-6744b5721ded",
   "metadata": {},
   "outputs": [],
   "source": [
    "## ** ---------- **"
   ]
  },
  {
   "cell_type": "code",
   "execution_count": 31,
   "id": "6d516ecd-bbb6-4d4c-8f9a-6b33d38d1f0d",
   "metadata": {},
   "outputs": [
    {
     "name": "stdout",
     "output_type": "stream",
     "text": [
      "** ----------- **\n",
      "** Milestone 2 **\n",
      "** ----------- **\n"
     ]
    }
   ],
   "source": [
    "print('** ----------- **')\n",
    "print('** Milestone 2 **')\n",
    "print('** ----------- **')"
   ]
  },
  {
   "cell_type": "code",
   "execution_count": 32,
   "id": "bce96f85-63b3-40ce-9afa-20c4c64a97ec",
   "metadata": {},
   "outputs": [],
   "source": [
    "## ** ---------- **"
   ]
  },
  {
   "cell_type": "code",
   "execution_count": 33,
   "id": "f8d7951f-0622-4cce-ab7f-fd1a0595fba5",
   "metadata": {},
   "outputs": [],
   "source": [
    "## Drop any features that are not useful for your model building and explain why they are not useful."
   ]
  },
  {
   "cell_type": "code",
   "execution_count": 34,
   "id": "14fd5733-d150-4632-8006-866a5181b26e",
   "metadata": {},
   "outputs": [
    {
     "data": {
      "text/plain": [
       "Index(['DR_NO', 'Date Rptd', 'DATE OCC', 'TIME OCC', 'AREA', 'AREA NAME',\n",
       "       'Rpt Dist No', 'Part 1-2', 'Crm Cd', 'Crm Cd Desc', 'Mocodes',\n",
       "       'Vict Age', 'Vict Sex', 'Vict Descent', 'Premis Cd', 'Premis Desc',\n",
       "       'Weapon Used Cd', 'Weapon Desc', 'Status', 'Status Desc', 'Crm Cd 1',\n",
       "       'Crm Cd 2', 'Crm Cd 3', 'Crm Cd 4', 'LOCATION', 'Cross Street', 'LAT',\n",
       "       'LON'],\n",
       "      dtype='object')"
      ]
     },
     "execution_count": 34,
     "metadata": {},
     "output_type": "execute_result"
    }
   ],
   "source": [
    "df.columns"
   ]
  },
  {
   "cell_type": "code",
   "execution_count": 35,
   "id": "37598dcd-8a50-4dad-a46a-ee26273eab0f",
   "metadata": {},
   "outputs": [],
   "source": [
    "df2=df.drop(columns=['Crm Cd 1', 'Crm Cd 2', 'Crm Cd 3', 'Crm Cd 4'], axis=1)"
   ]
  },
  {
   "cell_type": "code",
   "execution_count": 36,
   "id": "5ceb6037-453b-4c8d-bc3f-50d87df9aaf8",
   "metadata": {},
   "outputs": [],
   "source": [
    "# Crm Cd 1, Crm Cd 2, Crm Cd 3 and Crm Cd 4 are redundant as specific Crm Cd variable is preserved."
   ]
  },
  {
   "cell_type": "code",
   "execution_count": 37,
   "id": "5f9456aa-4ec1-44bf-b16c-b3069dffaf85",
   "metadata": {},
   "outputs": [],
   "source": [
    "df2=df2.drop(columns=['LAT', 'LON' , 'Cross Street', 'DR_NO', 'Date Rptd', 'LOCATION', 'DATE OCC'], axis=1)"
   ]
  },
  {
   "cell_type": "code",
   "execution_count": 38,
   "id": "67a4dfd3-a39c-4d39-a989-bf597b12af8c",
   "metadata": {},
   "outputs": [],
   "source": [
    "# LOCATION, LAT, LON, and Cross Street are all very specific geographic locations that encompassed in AREA variable that is preserved."
   ]
  },
  {
   "cell_type": "code",
   "execution_count": 39,
   "id": "010798f0-3ce2-44cc-8810-0c2acb89d629",
   "metadata": {},
   "outputs": [],
   "source": [
    "# Date Rptd and DATE OCC are similar in nature but unnecessary in relation to the focus of this research."
   ]
  },
  {
   "cell_type": "code",
   "execution_count": 40,
   "id": "639ce7bf-48d1-485e-afe6-d67a6a585308",
   "metadata": {},
   "outputs": [],
   "source": [
    "# DR_NO is just the specific incident number, which can also be represented as a row for the purposes of this EDA."
   ]
  },
  {
   "cell_type": "code",
   "execution_count": 41,
   "id": "d21bbbd3-0ec0-4ded-9b4d-0a2e56e58cd5",
   "metadata": {},
   "outputs": [],
   "source": [
    "df2=df2.drop(columns=['Status', 'Status Desc'], axis=1)"
   ]
  },
  {
   "cell_type": "code",
   "execution_count": 42,
   "id": "a5bb8d24-9c20-4300-a0f3-e4981a9497b4",
   "metadata": {},
   "outputs": [],
   "source": [
    "# Status and Status Desc explain whether the case is ongoing or closed, again for this research is also irrelavent. "
   ]
  },
  {
   "cell_type": "code",
   "execution_count": 43,
   "id": "6f984f41-904c-4144-bdd5-10a33ad96c15",
   "metadata": {},
   "outputs": [],
   "source": [
    "df2=df2.drop(columns=['AREA NAME', 'Crm Cd Desc', 'Premis Desc'], axis=1)"
   ]
  },
  {
   "cell_type": "code",
   "execution_count": 44,
   "id": "b28ade50-465e-40c9-a56d-0409d6454bac",
   "metadata": {},
   "outputs": [],
   "source": [
    "# AREA NAME, Crm Cd Desc and Premis Desc are redudant as serve only as references to their numeric value which are preserved in the modified dataset."
   ]
  },
  {
   "cell_type": "code",
   "execution_count": 45,
   "id": "6a5dbceb-4f70-4efa-8ed1-1bc04c206287",
   "metadata": {},
   "outputs": [],
   "source": [
    "df2=df2.drop(columns=['Weapon Desc', 'Vict Descent', 'Mocodes', 'Part 1-2'], axis=1)"
   ]
  },
  {
   "cell_type": "code",
   "execution_count": 46,
   "id": "bffc711c-3e1e-4b1e-a77f-66c7203149be",
   "metadata": {},
   "outputs": [],
   "source": [
    "# Mocodes has to do with Modus Operandi and describes the activity the suspect was engaging in. Part 1-2 has no description or associated identifying labels/descriptors."
   ]
  },
  {
   "cell_type": "code",
   "execution_count": 47,
   "id": "7ab9e19f-4f2a-4597-8f70-a4b50b272ed5",
   "metadata": {},
   "outputs": [],
   "source": [
    "# Weapon Desc and Vict Descent are descriptive data that are redundant on superfluous in nature."
   ]
  },
  {
   "cell_type": "code",
   "execution_count": 48,
   "id": "07267544-922f-4c7e-95b9-9e9c03e400d5",
   "metadata": {},
   "outputs": [],
   "source": [
    "df2=df2.drop(columns=['Weapon Used Cd'], axis=1)"
   ]
  },
  {
   "cell_type": "code",
   "execution_count": 49,
   "id": "e94e6fe6-2fab-4d77-aa51-61de9bdf3639",
   "metadata": {},
   "outputs": [],
   "source": [
    "# This data was to be used, but with over 400,000 Nans in this column, the decision to remove it was made to preserve more overall data. It's telling as a lot of crimes are committed without a weapon."
   ]
  },
  {
   "cell_type": "code",
   "execution_count": 50,
   "id": "810338c7-8893-4185-bd77-283590927c20",
   "metadata": {},
   "outputs": [
    {
     "data": {
      "text/html": [
       "<div>\n",
       "<style scoped>\n",
       "    .dataframe tbody tr th:only-of-type {\n",
       "        vertical-align: middle;\n",
       "    }\n",
       "\n",
       "    .dataframe tbody tr th {\n",
       "        vertical-align: top;\n",
       "    }\n",
       "\n",
       "    .dataframe thead th {\n",
       "        text-align: right;\n",
       "    }\n",
       "</style>\n",
       "<table border=\"1\" class=\"dataframe\">\n",
       "  <thead>\n",
       "    <tr style=\"text-align: right;\">\n",
       "      <th></th>\n",
       "      <th>TIME OCC</th>\n",
       "      <th>AREA</th>\n",
       "      <th>Rpt Dist No</th>\n",
       "      <th>Crm Cd</th>\n",
       "      <th>Vict Age</th>\n",
       "      <th>Vict Sex</th>\n",
       "      <th>Premis Cd</th>\n",
       "    </tr>\n",
       "  </thead>\n",
       "  <tbody>\n",
       "    <tr>\n",
       "      <th>0</th>\n",
       "      <td>2230</td>\n",
       "      <td>3</td>\n",
       "      <td>377</td>\n",
       "      <td>624</td>\n",
       "      <td>36</td>\n",
       "      <td>F</td>\n",
       "      <td>501.0</td>\n",
       "    </tr>\n",
       "    <tr>\n",
       "      <th>1</th>\n",
       "      <td>330</td>\n",
       "      <td>1</td>\n",
       "      <td>163</td>\n",
       "      <td>624</td>\n",
       "      <td>25</td>\n",
       "      <td>M</td>\n",
       "      <td>102.0</td>\n",
       "    </tr>\n",
       "    <tr>\n",
       "      <th>2</th>\n",
       "      <td>1200</td>\n",
       "      <td>1</td>\n",
       "      <td>155</td>\n",
       "      <td>845</td>\n",
       "      <td>0</td>\n",
       "      <td>X</td>\n",
       "      <td>726.0</td>\n",
       "    </tr>\n",
       "    <tr>\n",
       "      <th>3</th>\n",
       "      <td>1730</td>\n",
       "      <td>15</td>\n",
       "      <td>1543</td>\n",
       "      <td>745</td>\n",
       "      <td>76</td>\n",
       "      <td>F</td>\n",
       "      <td>502.0</td>\n",
       "    </tr>\n",
       "    <tr>\n",
       "      <th>4</th>\n",
       "      <td>415</td>\n",
       "      <td>19</td>\n",
       "      <td>1998</td>\n",
       "      <td>740</td>\n",
       "      <td>31</td>\n",
       "      <td>X</td>\n",
       "      <td>409.0</td>\n",
       "    </tr>\n",
       "  </tbody>\n",
       "</table>\n",
       "</div>"
      ],
      "text/plain": [
       "   TIME OCC  AREA  Rpt Dist No  Crm Cd  Vict Age Vict Sex  Premis Cd\n",
       "0      2230     3          377     624        36        F      501.0\n",
       "1       330     1          163     624        25        M      102.0\n",
       "2      1200     1          155     845         0        X      726.0\n",
       "3      1730    15         1543     745        76        F      502.0\n",
       "4       415    19         1998     740        31        X      409.0"
      ]
     },
     "execution_count": 50,
     "metadata": {},
     "output_type": "execute_result"
    }
   ],
   "source": [
    "df2.head()"
   ]
  },
  {
   "cell_type": "code",
   "execution_count": 51,
   "id": "3bb990e5-bfcf-4fb0-8752-c1c9e3846128",
   "metadata": {},
   "outputs": [
    {
     "data": {
      "text/html": [
       "<div>\n",
       "<style scoped>\n",
       "    .dataframe tbody tr th:only-of-type {\n",
       "        vertical-align: middle;\n",
       "    }\n",
       "\n",
       "    .dataframe tbody tr th {\n",
       "        vertical-align: top;\n",
       "    }\n",
       "\n",
       "    .dataframe thead th {\n",
       "        text-align: right;\n",
       "    }\n",
       "</style>\n",
       "<table border=\"1\" class=\"dataframe\">\n",
       "  <thead>\n",
       "    <tr style=\"text-align: right;\">\n",
       "      <th></th>\n",
       "      <th>TIME OCC</th>\n",
       "      <th>AREA</th>\n",
       "      <th>Rpt Dist No</th>\n",
       "      <th>Crm Cd</th>\n",
       "      <th>Vict Age</th>\n",
       "      <th>Premis Cd</th>\n",
       "    </tr>\n",
       "  </thead>\n",
       "  <tbody>\n",
       "    <tr>\n",
       "      <th>count</th>\n",
       "      <td>815882.000000</td>\n",
       "      <td>815882.000000</td>\n",
       "      <td>815882.000000</td>\n",
       "      <td>815882.000000</td>\n",
       "      <td>815882.000000</td>\n",
       "      <td>815873.000000</td>\n",
       "    </tr>\n",
       "    <tr>\n",
       "      <th>mean</th>\n",
       "      <td>1335.614658</td>\n",
       "      <td>10.711521</td>\n",
       "      <td>1117.576886</td>\n",
       "      <td>500.777800</td>\n",
       "      <td>29.818963</td>\n",
       "      <td>305.776683</td>\n",
       "    </tr>\n",
       "    <tr>\n",
       "      <th>std</th>\n",
       "      <td>654.102822</td>\n",
       "      <td>6.092813</td>\n",
       "      <td>609.276287</td>\n",
       "      <td>207.816937</td>\n",
       "      <td>21.772828</td>\n",
       "      <td>216.646998</td>\n",
       "    </tr>\n",
       "    <tr>\n",
       "      <th>min</th>\n",
       "      <td>1.000000</td>\n",
       "      <td>1.000000</td>\n",
       "      <td>101.000000</td>\n",
       "      <td>110.000000</td>\n",
       "      <td>-3.000000</td>\n",
       "      <td>101.000000</td>\n",
       "    </tr>\n",
       "    <tr>\n",
       "      <th>25%</th>\n",
       "      <td>900.000000</td>\n",
       "      <td>6.000000</td>\n",
       "      <td>621.000000</td>\n",
       "      <td>331.000000</td>\n",
       "      <td>8.000000</td>\n",
       "      <td>101.000000</td>\n",
       "    </tr>\n",
       "    <tr>\n",
       "      <th>50%</th>\n",
       "      <td>1415.000000</td>\n",
       "      <td>11.000000</td>\n",
       "      <td>1142.000000</td>\n",
       "      <td>442.000000</td>\n",
       "      <td>31.000000</td>\n",
       "      <td>203.000000</td>\n",
       "    </tr>\n",
       "    <tr>\n",
       "      <th>75%</th>\n",
       "      <td>1900.000000</td>\n",
       "      <td>16.000000</td>\n",
       "      <td>1617.000000</td>\n",
       "      <td>626.000000</td>\n",
       "      <td>45.000000</td>\n",
       "      <td>501.000000</td>\n",
       "    </tr>\n",
       "    <tr>\n",
       "      <th>max</th>\n",
       "      <td>2359.000000</td>\n",
       "      <td>21.000000</td>\n",
       "      <td>2199.000000</td>\n",
       "      <td>956.000000</td>\n",
       "      <td>120.000000</td>\n",
       "      <td>976.000000</td>\n",
       "    </tr>\n",
       "  </tbody>\n",
       "</table>\n",
       "</div>"
      ],
      "text/plain": [
       "            TIME OCC           AREA    Rpt Dist No         Crm Cd  \\\n",
       "count  815882.000000  815882.000000  815882.000000  815882.000000   \n",
       "mean     1335.614658      10.711521    1117.576886     500.777800   \n",
       "std       654.102822       6.092813     609.276287     207.816937   \n",
       "min         1.000000       1.000000     101.000000     110.000000   \n",
       "25%       900.000000       6.000000     621.000000     331.000000   \n",
       "50%      1415.000000      11.000000    1142.000000     442.000000   \n",
       "75%      1900.000000      16.000000    1617.000000     626.000000   \n",
       "max      2359.000000      21.000000    2199.000000     956.000000   \n",
       "\n",
       "            Vict Age      Premis Cd  \n",
       "count  815882.000000  815873.000000  \n",
       "mean       29.818963     305.776683  \n",
       "std        21.772828     216.646998  \n",
       "min        -3.000000     101.000000  \n",
       "25%         8.000000     101.000000  \n",
       "50%        31.000000     203.000000  \n",
       "75%        45.000000     501.000000  \n",
       "max       120.000000     976.000000  "
      ]
     },
     "execution_count": 51,
     "metadata": {},
     "output_type": "execute_result"
    }
   ],
   "source": [
    "df2.describe()"
   ]
  },
  {
   "cell_type": "code",
   "execution_count": 52,
   "id": "2dbeb5f1-247d-43cf-9005-0828d6d1da25",
   "metadata": {},
   "outputs": [],
   "source": [
    "## Perform any data extraction/selection steps."
   ]
  },
  {
   "cell_type": "code",
   "execution_count": 53,
   "id": "e21ca39d-63fa-489b-bd32-f56d586d1cb0",
   "metadata": {},
   "outputs": [],
   "source": [
    "## Transform features if necessary."
   ]
  },
  {
   "cell_type": "code",
   "execution_count": 54,
   "id": "31bdaa7e-2ced-4472-bba6-93b42509eb10",
   "metadata": {},
   "outputs": [
    {
     "data": {
      "text/plain": [
       "0         F\n",
       "1         M\n",
       "2         X\n",
       "3         F\n",
       "4         X\n",
       "         ..\n",
       "815877    M\n",
       "815878    F\n",
       "815879    M\n",
       "815880    F\n",
       "815881    F\n",
       "Name: Vict Sex, Length: 815882, dtype: object"
      ]
     },
     "execution_count": 54,
     "metadata": {},
     "output_type": "execute_result"
    }
   ],
   "source": [
    "df2[\"Vict Sex\"]"
   ]
  },
  {
   "cell_type": "code",
   "execution_count": 55,
   "id": "717daaa1-4640-415b-bf9a-39f10751a271",
   "metadata": {},
   "outputs": [
    {
     "data": {
      "text/plain": [
       "5"
      ]
     },
     "execution_count": 55,
     "metadata": {},
     "output_type": "execute_result"
    }
   ],
   "source": [
    "df2['Vict Sex'].nunique()"
   ]
  },
  {
   "cell_type": "code",
   "execution_count": 56,
   "id": "840ccd4d-936c-47d7-a519-e3ae76a3ab54",
   "metadata": {},
   "outputs": [],
   "source": [
    "df2.replace({'F':0,'M':1, 'X':2, 'H':3, \"-\":4}, inplace=True)"
   ]
  },
  {
   "cell_type": "code",
   "execution_count": 57,
   "id": "016d3190-7382-4308-9ff0-ee2c1152d303",
   "metadata": {},
   "outputs": [
    {
     "name": "stdout",
     "output_type": "stream",
     "text": [
      "1.0    337050\n",
      "0.0    300602\n",
      "2.0     70947\n",
      "3.0        90\n",
      "4.0         1\n",
      "Name: Vict Sex, dtype: int64\n"
     ]
    }
   ],
   "source": [
    "print(df2['Vict Sex'].value_counts())"
   ]
  },
  {
   "cell_type": "code",
   "execution_count": 58,
   "id": "75ee482d-e68b-4657-999e-5727f720789c",
   "metadata": {},
   "outputs": [],
   "source": [
    "## Remove Nans"
   ]
  },
  {
   "cell_type": "code",
   "execution_count": 59,
   "id": "4adbcd57-2b08-4dc4-be07-e5623c268783",
   "metadata": {},
   "outputs": [],
   "source": [
    "df2['Vict Sex'] = df2['Vict Sex'].replace(np.nan, 2)"
   ]
  },
  {
   "cell_type": "code",
   "execution_count": 60,
   "id": "6829bcab-5c53-442b-bf57-ae577d26d87c",
   "metadata": {},
   "outputs": [],
   "source": [
    "# After processing, data in df2 Vict Sex was adjust for unknown values. NaNs converted to unknown labeled as value 2 as missing values are unknown."
   ]
  },
  {
   "cell_type": "code",
   "execution_count": 61,
   "id": "baaa9012-d454-4501-a775-4600bdc0c17c",
   "metadata": {},
   "outputs": [],
   "source": [
    "df2 = df2.drop(df2[df2['Vict Sex'] == 3].index)"
   ]
  },
  {
   "cell_type": "code",
   "execution_count": 62,
   "id": "950995cb-c47f-4d86-83f6-184edfdf5c71",
   "metadata": {},
   "outputs": [],
   "source": [
    "df2 = df2.drop(df2[df2['Vict Sex'] == 4].index)"
   ]
  },
  {
   "cell_type": "code",
   "execution_count": 63,
   "id": "c92dbab5-1f46-416f-9149-efcb6ac02a93",
   "metadata": {},
   "outputs": [],
   "source": [
    "# Variables 3 & 4 previous labeled H & - were dropped as erroneously reported data."
   ]
  },
  {
   "cell_type": "code",
   "execution_count": 64,
   "id": "d96fcbe2-e6e1-4e5e-ba96-e0ebf4d57205",
   "metadata": {},
   "outputs": [],
   "source": [
    "df2['Vict Sex'] = pd.to_numeric(df2['Vict Sex'])"
   ]
  },
  {
   "cell_type": "code",
   "execution_count": 65,
   "id": "476e5057-2869-4b36-8a65-bf875b449ab1",
   "metadata": {},
   "outputs": [],
   "source": [
    "df2['Vict Sex'] = df2['Vict Sex'].astype('int64')"
   ]
  },
  {
   "cell_type": "code",
   "execution_count": 66,
   "id": "dcd30a75-d863-4e1d-b4f2-de08e1be4561",
   "metadata": {},
   "outputs": [
    {
     "name": "stdout",
     "output_type": "stream",
     "text": [
      "1    337050\n",
      "0    300602\n",
      "2    178139\n",
      "Name: Vict Sex, dtype: int64\n"
     ]
    }
   ],
   "source": [
    "print(df2['Vict Sex'].value_counts())"
   ]
  },
  {
   "cell_type": "code",
   "execution_count": 67,
   "id": "1c68e2bb-3116-4b75-99e3-cd8c38161fb2",
   "metadata": {},
   "outputs": [],
   "source": [
    "## Engineer new useful features."
   ]
  },
  {
   "cell_type": "code",
   "execution_count": 68,
   "id": "66e1e355-9ffc-4aed-b0ef-e6f500d51629",
   "metadata": {},
   "outputs": [],
   "source": [
    "df2['Premis Cd'] = df2['Premis Cd'].replace(np.nan, 710)"
   ]
  },
  {
   "cell_type": "code",
   "execution_count": 69,
   "id": "70521522-4d38-4e0c-ba7a-0f40cdd2e94d",
   "metadata": {},
   "outputs": [],
   "source": [
    "## NaNs replaced with code 710 which is labeled as other."
   ]
  },
  {
   "cell_type": "code",
   "execution_count": 70,
   "id": "145f1fb3-024a-49e3-8969-c17f370bfa49",
   "metadata": {},
   "outputs": [],
   "source": [
    "df2['Premis Cd'] = df2['Premis Cd'].astype('int64')"
   ]
  },
  {
   "cell_type": "code",
   "execution_count": 71,
   "id": "05a876ec-e138-4737-ba1d-94551f95f337",
   "metadata": {},
   "outputs": [],
   "source": [
    "## Deal with missing data (do not just drop rows or columns without justifying this)."
   ]
  },
  {
   "cell_type": "code",
   "execution_count": 72,
   "id": "c34fb810-2cf5-42a8-a9b5-4a4076f9591f",
   "metadata": {},
   "outputs": [
    {
     "data": {
      "text/plain": [
       "TIME OCC       0\n",
       "AREA           0\n",
       "Rpt Dist No    0\n",
       "Crm Cd         0\n",
       "Vict Age       0\n",
       "Vict Sex       0\n",
       "Premis Cd      0\n",
       "dtype: int64"
      ]
     },
     "execution_count": 72,
     "metadata": {},
     "output_type": "execute_result"
    }
   ],
   "source": [
    "NaN_Missing_Count = df2.isnull().sum(axis = 0)\n",
    "\n",
    "NaN_Missing_Count"
   ]
  },
  {
   "cell_type": "code",
   "execution_count": 73,
   "id": "01a6e537-e630-43d1-a1cf-216e4f88f547",
   "metadata": {},
   "outputs": [
    {
     "data": {
      "text/html": [
       "<div>\n",
       "<style scoped>\n",
       "    .dataframe tbody tr th:only-of-type {\n",
       "        vertical-align: middle;\n",
       "    }\n",
       "\n",
       "    .dataframe tbody tr th {\n",
       "        vertical-align: top;\n",
       "    }\n",
       "\n",
       "    .dataframe thead th {\n",
       "        text-align: right;\n",
       "    }\n",
       "</style>\n",
       "<table border=\"1\" class=\"dataframe\">\n",
       "  <thead>\n",
       "    <tr style=\"text-align: right;\">\n",
       "      <th></th>\n",
       "      <th>TIME OCC</th>\n",
       "      <th>AREA</th>\n",
       "      <th>Rpt Dist No</th>\n",
       "      <th>Crm Cd</th>\n",
       "      <th>Vict Age</th>\n",
       "      <th>Vict Sex</th>\n",
       "      <th>Premis Cd</th>\n",
       "    </tr>\n",
       "  </thead>\n",
       "  <tbody>\n",
       "    <tr>\n",
       "      <th>0</th>\n",
       "      <td>2230</td>\n",
       "      <td>3</td>\n",
       "      <td>377</td>\n",
       "      <td>624</td>\n",
       "      <td>36</td>\n",
       "      <td>0</td>\n",
       "      <td>501</td>\n",
       "    </tr>\n",
       "    <tr>\n",
       "      <th>1</th>\n",
       "      <td>330</td>\n",
       "      <td>1</td>\n",
       "      <td>163</td>\n",
       "      <td>624</td>\n",
       "      <td>25</td>\n",
       "      <td>1</td>\n",
       "      <td>102</td>\n",
       "    </tr>\n",
       "    <tr>\n",
       "      <th>2</th>\n",
       "      <td>1200</td>\n",
       "      <td>1</td>\n",
       "      <td>155</td>\n",
       "      <td>845</td>\n",
       "      <td>0</td>\n",
       "      <td>2</td>\n",
       "      <td>726</td>\n",
       "    </tr>\n",
       "    <tr>\n",
       "      <th>3</th>\n",
       "      <td>1730</td>\n",
       "      <td>15</td>\n",
       "      <td>1543</td>\n",
       "      <td>745</td>\n",
       "      <td>76</td>\n",
       "      <td>0</td>\n",
       "      <td>502</td>\n",
       "    </tr>\n",
       "    <tr>\n",
       "      <th>4</th>\n",
       "      <td>415</td>\n",
       "      <td>19</td>\n",
       "      <td>1998</td>\n",
       "      <td>740</td>\n",
       "      <td>31</td>\n",
       "      <td>2</td>\n",
       "      <td>409</td>\n",
       "    </tr>\n",
       "  </tbody>\n",
       "</table>\n",
       "</div>"
      ],
      "text/plain": [
       "   TIME OCC  AREA  Rpt Dist No  Crm Cd  Vict Age  Vict Sex  Premis Cd\n",
       "0      2230     3          377     624        36         0        501\n",
       "1       330     1          163     624        25         1        102\n",
       "2      1200     1          155     845         0         2        726\n",
       "3      1730    15         1543     745        76         0        502\n",
       "4       415    19         1998     740        31         2        409"
      ]
     },
     "execution_count": 73,
     "metadata": {},
     "output_type": "execute_result"
    }
   ],
   "source": [
    "df2.head()"
   ]
  },
  {
   "cell_type": "code",
   "execution_count": 74,
   "id": "1c2a2a30-7485-442e-9c9e-0d2af62d9186",
   "metadata": {},
   "outputs": [
    {
     "name": "stdout",
     "output_type": "stream",
     "text": [
      "<class 'pandas.core.frame.DataFrame'>\n",
      "Int64Index: 815791 entries, 0 to 815881\n",
      "Data columns (total 7 columns):\n",
      " #   Column       Non-Null Count   Dtype\n",
      "---  ------       --------------   -----\n",
      " 0   TIME OCC     815791 non-null  int64\n",
      " 1   AREA         815791 non-null  int64\n",
      " 2   Rpt Dist No  815791 non-null  int64\n",
      " 3   Crm Cd       815791 non-null  int64\n",
      " 4   Vict Age     815791 non-null  int64\n",
      " 5   Vict Sex     815791 non-null  int64\n",
      " 6   Premis Cd    815791 non-null  int64\n",
      "dtypes: int64(7)\n",
      "memory usage: 49.8 MB\n"
     ]
    }
   ],
   "source": [
    "df2.info()"
   ]
  },
  {
   "cell_type": "code",
   "execution_count": 75,
   "id": "efd18ea6-7cb6-474a-bd1b-49a2a4052831",
   "metadata": {},
   "outputs": [],
   "source": [
    "df4 = df2"
   ]
  },
  {
   "cell_type": "code",
   "execution_count": null,
   "id": "3691c47c-37e6-44e3-8651-4a5fdbb4df80",
   "metadata": {},
   "outputs": [],
   "source": []
  },
  {
   "cell_type": "code",
   "execution_count": 76,
   "id": "9d2baa0e-81f9-4a08-89e7-8caee225243c",
   "metadata": {},
   "outputs": [],
   "source": [
    "## Create dummy variables if necessary."
   ]
  },
  {
   "cell_type": "code",
   "execution_count": 77,
   "id": "266b6226-7ca5-429b-a5df-8ac1d57b04ba",
   "metadata": {},
   "outputs": [],
   "source": [
    "# df3 = pd.get_dummies(df2)"
   ]
  },
  {
   "cell_type": "code",
   "execution_count": 78,
   "id": "6ad07d83-c85b-4665-93f0-12a7666632e4",
   "metadata": {},
   "outputs": [],
   "source": [
    "# As data was filtered and descriptions removed the need for dummy variables was unwarranted. Coding was placed to showcase how to do so in the event it was needed."
   ]
  },
  {
   "cell_type": "code",
   "execution_count": null,
   "id": "b0f95478-711d-4ea3-8819-bedffc1b683c",
   "metadata": {},
   "outputs": [],
   "source": []
  },
  {
   "cell_type": "code",
   "execution_count": 79,
   "id": "f1ec5242-4df3-4a54-925e-9d15970d9a0b",
   "metadata": {},
   "outputs": [],
   "source": [
    "## ** ---------- **"
   ]
  },
  {
   "cell_type": "code",
   "execution_count": 80,
   "id": "47117ce9-c429-479a-b1a0-df26cab93326",
   "metadata": {},
   "outputs": [
    {
     "name": "stdout",
     "output_type": "stream",
     "text": [
      "** ----------- **\n",
      "** Milestone 3 **\n",
      "** ----------- **\n"
     ]
    }
   ],
   "source": [
    "print('** ----------- **')\n",
    "print('** Milestone 3 **')\n",
    "print('** ----------- **')"
   ]
  },
  {
   "cell_type": "code",
   "execution_count": 81,
   "id": "460b8a92-4b5a-47a8-847d-d9770ef14958",
   "metadata": {},
   "outputs": [],
   "source": [
    "## ** ---------- **"
   ]
  },
  {
   "cell_type": "code",
   "execution_count": null,
   "id": "cf8bcbad-4690-4f03-8194-fdccfd7ec098",
   "metadata": {},
   "outputs": [],
   "source": []
  },
  {
   "cell_type": "code",
   "execution_count": 82,
   "id": "9360c22e-93dd-4c10-9db7-66cbe3d688f8",
   "metadata": {},
   "outputs": [],
   "source": [
    "## You are required to train and evaluate at least one model in this milestone. "
   ]
  },
  {
   "cell_type": "code",
   "execution_count": 83,
   "id": "ca5984cd-8f7b-47f7-b4e4-275d0978a76a",
   "metadata": {},
   "outputs": [
    {
     "name": "stdout",
     "output_type": "stream",
     "text": [
      "** ------------------------------ **\n",
      "** AREA K Nearest Neighbors Model **\n",
      "** ------------------------------ **\n"
     ]
    }
   ],
   "source": [
    "print('** ------------------------------ **')\n",
    "print('** AREA K Nearest Neighbors Model **')\n",
    "print('** ------------------------------ **')"
   ]
  },
  {
   "cell_type": "code",
   "execution_count": 84,
   "id": "14e2ec63-8fde-460f-af68-cd58285b600d",
   "metadata": {},
   "outputs": [],
   "source": [
    "## As the data has been cleaned, and there are a finite amount of variables, clustering of the data for AREA will be the focus."
   ]
  },
  {
   "cell_type": "code",
   "execution_count": 85,
   "id": "de71403c-dac3-4cd6-887e-273b53959f46",
   "metadata": {},
   "outputs": [],
   "source": [
    "X = df2.drop('AREA', axis=1)\n",
    "y = df2['AREA']"
   ]
  },
  {
   "cell_type": "code",
   "execution_count": 86,
   "id": "15077b41-119e-4031-b5ce-53646094b440",
   "metadata": {},
   "outputs": [],
   "source": [
    "X_train, X_test, y_train, y_test = train_test_split(X, y, test_size=0.2, random_state=42)"
   ]
  },
  {
   "cell_type": "code",
   "execution_count": 87,
   "id": "32233834-7ab0-4c85-8109-1ee50f855bff",
   "metadata": {},
   "outputs": [],
   "source": [
    "pipeline = Pipeline([('scaler', MinMaxScaler()),('classifier', KNeighborsClassifier())])"
   ]
  },
  {
   "cell_type": "code",
   "execution_count": 88,
   "id": "20125add-e099-4b6d-9d11-8ca87dcd5be7",
   "metadata": {},
   "outputs": [
    {
     "data": {
      "text/plain": [
       "Pipeline(steps=[('scaler', MinMaxScaler()),\n",
       "                ('classifier', KNeighborsClassifier())])"
      ]
     },
     "execution_count": 88,
     "metadata": {},
     "output_type": "execute_result"
    }
   ],
   "source": [
    "pipeline.fit(X_train, y_train)"
   ]
  },
  {
   "cell_type": "code",
   "execution_count": 89,
   "id": "d53cae1e-bf70-4739-a644-3ae68a1bd1a6",
   "metadata": {},
   "outputs": [
    {
     "name": "stdout",
     "output_type": "stream",
     "text": [
      "The accuracy of the KNN classifier from the test set is: 85.77 %\n"
     ]
    }
   ],
   "source": [
    "accuracy = pipeline.score(X_test, y_test)\n",
    "\n",
    "print(\"The accuracy of the KNN classifier from the test set is: {:.2f}\".format(accuracy*100),\"%\")"
   ]
  },
  {
   "cell_type": "code",
   "execution_count": null,
   "id": "ab19f03d-8738-4525-9b48-4b0dfe1baf2b",
   "metadata": {},
   "outputs": [],
   "source": []
  },
  {
   "cell_type": "code",
   "execution_count": 90,
   "id": "6c0c1212-09de-4c95-99b9-55f6989d5124",
   "metadata": {},
   "outputs": [
    {
     "name": "stdout",
     "output_type": "stream",
     "text": [
      "** ---------------------------- **\n",
      "** AREA Linear Regression Model **\n",
      "** ---------------------------- **\n"
     ]
    }
   ],
   "source": [
    "print('** ---------------------------- **')\n",
    "print('** AREA Linear Regression Model **')\n",
    "print('** ---------------------------- **')"
   ]
  },
  {
   "cell_type": "code",
   "execution_count": 91,
   "id": "e6073934-98ef-4383-a36c-e935353401e0",
   "metadata": {},
   "outputs": [],
   "source": [
    "## Taking a practical approach for dependent variable we will look at the relationship of this model other variables in relation to AREA."
   ]
  },
  {
   "cell_type": "code",
   "execution_count": 92,
   "id": "190ff5e3-29d4-4813-92ff-cb5fc78c9412",
   "metadata": {},
   "outputs": [],
   "source": [
    "LinearModel = linear_model.LinearRegression()"
   ]
  },
  {
   "cell_type": "code",
   "execution_count": 93,
   "id": "cc1bd45f-5785-4c5a-a7b6-f2bc7255a1ab",
   "metadata": {},
   "outputs": [
    {
     "data": {
      "text/plain": [
       "LinearRegression()"
      ]
     },
     "execution_count": 93,
     "metadata": {},
     "output_type": "execute_result"
    }
   ],
   "source": [
    "LinearModel.fit(X,y)"
   ]
  },
  {
   "cell_type": "code",
   "execution_count": 94,
   "id": "bb4cc7c2-1f24-4fad-8ab1-b656bccc25be",
   "metadata": {},
   "outputs": [],
   "source": [
    "model = sm.OLS(y, X).fit()"
   ]
  },
  {
   "cell_type": "code",
   "execution_count": 95,
   "id": "9128b708-a35f-4f6e-8a20-cb261f616eff",
   "metadata": {},
   "outputs": [],
   "source": [
    "prediction = model.predict(X)"
   ]
  },
  {
   "cell_type": "code",
   "execution_count": 96,
   "id": "e8e5fa34-7d2e-46e1-844b-5565e2df4db6",
   "metadata": {},
   "outputs": [
    {
     "name": "stdout",
     "output_type": "stream",
     "text": [
      "                                 OLS Regression Results                                \n",
      "=======================================================================================\n",
      "Dep. Variable:                   AREA   R-squared (uncentered):                   0.999\n",
      "Model:                            OLS   Adj. R-squared (uncentered):              0.999\n",
      "Method:                 Least Squares   F-statistic:                          2.614e+08\n",
      "Date:                Sat, 18 Nov 2023   Prob (F-statistic):                        0.00\n",
      "Time:                        16:49:42   Log-Likelihood:                     -1.2185e+05\n",
      "No. Observations:              815791   AIC:                                  2.437e+05\n",
      "Df Residuals:                  815785   BIC:                                  2.438e+05\n",
      "Df Model:                           6                                                  \n",
      "Covariance Type:            nonrobust                                                  \n",
      "===============================================================================\n",
      "                  coef    std err          t      P>|t|      [0.025      0.975]\n",
      "-------------------------------------------------------------------------------\n",
      "TIME OCC    -5.821e-05   4.34e-07   -134.118      0.000   -5.91e-05   -5.74e-05\n",
      "Rpt Dist No     0.0099   4.74e-07    2.1e+04      0.000       0.010       0.010\n",
      "Crm Cd         -0.0002   1.32e-06   -159.733      0.000      -0.000      -0.000\n",
      "Vict Age       -0.0026   1.51e-05   -173.442      0.000      -0.003      -0.003\n",
      "Vict Sex       -0.0851      0.000   -197.399      0.000      -0.086      -0.084\n",
      "Premis Cd      -0.0001   1.43e-06    -92.581      0.000      -0.000      -0.000\n",
      "==============================================================================\n",
      "Omnibus:                    66639.184   Durbin-Watson:                   1.988\n",
      "Prob(Omnibus):                  0.000   Jarque-Bera (JB):            22358.649\n",
      "Skew:                          -0.097   Prob(JB):                         0.00\n",
      "Kurtosis:                       2.213   Cond. No.                     2.68e+03\n",
      "==============================================================================\n",
      "\n",
      "Notes:\n",
      "[1] R² is computed without centering (uncentered) since the model does not contain a constant.\n",
      "[2] Standard Errors assume that the covariance matrix of the errors is correctly specified.\n",
      "[3] The condition number is large, 2.68e+03. This might indicate that there are\n",
      "strong multicollinearity or other numerical problems.\n"
     ]
    }
   ],
   "source": [
    "print(model.summary())"
   ]
  },
  {
   "cell_type": "code",
   "execution_count": 97,
   "id": "9edb8e0d-d79c-463b-ab4d-7d3ee01b433c",
   "metadata": {},
   "outputs": [
    {
     "name": "stdout",
     "output_type": "stream",
     "text": [
      "The accuracy of the Linear Regression Model of AREA from the test set is: 99.9%\n"
     ]
    }
   ],
   "source": [
    "print(\"The accuracy of the Linear Regression Model of AREA from the test set is: 99.9%\")"
   ]
  },
  {
   "cell_type": "code",
   "execution_count": 98,
   "id": "d6260774-512a-4358-b478-eaf1e3a5e511",
   "metadata": {},
   "outputs": [
    {
     "data": {
      "text/plain": [
       "0    3.323915\n",
       "1    1.304809\n",
       "2    1.026085\n",
       "dtype: float64"
      ]
     },
     "execution_count": 98,
     "metadata": {},
     "output_type": "execute_result"
    }
   ],
   "source": [
    "prediction.head(3)"
   ]
  },
  {
   "cell_type": "code",
   "execution_count": 99,
   "id": "15e3ef0e-bdbd-4d69-9801-6ff182c7f1a2",
   "metadata": {},
   "outputs": [
    {
     "data": {
      "text/plain": [
       "0    3\n",
       "1    1\n",
       "2    1\n",
       "Name: AREA, dtype: int64"
      ]
     },
     "execution_count": 99,
     "metadata": {},
     "output_type": "execute_result"
    }
   ],
   "source": [
    "y.head(3)"
   ]
  },
  {
   "cell_type": "code",
   "execution_count": 100,
   "id": "454f0d5d-13cc-405c-9b67-8b3f9cec5a88",
   "metadata": {},
   "outputs": [],
   "source": [
    "xyz = pd.concat([y, prediction], axis = 1, join = \"inner\")\n",
    "xyz = xyz.rename(columns={'AREA':'y', 0:'prediction'})\n",
    "xyz['residual'] = xyz['y'] - xyz['prediction']"
   ]
  },
  {
   "cell_type": "code",
   "execution_count": 101,
   "id": "8057100c-bdb5-4a44-afb3-7004de0a62cf",
   "metadata": {},
   "outputs": [],
   "source": [
    "# xyz[['residual']].head(7).style.hide(axis='index')"
   ]
  },
  {
   "cell_type": "code",
   "execution_count": null,
   "id": "3dba9648-6b2d-4604-9f55-db71d7cd98d2",
   "metadata": {},
   "outputs": [],
   "source": []
  },
  {
   "cell_type": "code",
   "execution_count": 102,
   "id": "c5f9dfd8-25f5-43e8-8ead-bdacf6767866",
   "metadata": {},
   "outputs": [
    {
     "name": "stdout",
     "output_type": "stream",
     "text": [
      "** -------------------------------- **\n",
      "** TIME OCC Linear Regression Model **\n",
      "** -------------------------------- **\n"
     ]
    }
   ],
   "source": [
    "print('** -------------------------------- **')\n",
    "print('** TIME OCC Linear Regression Model **')\n",
    "print('** -------------------------------- **')"
   ]
  },
  {
   "cell_type": "code",
   "execution_count": null,
   "id": "86abb155-8619-4470-af45-e0d48264077a",
   "metadata": {},
   "outputs": [],
   "source": []
  },
  {
   "cell_type": "code",
   "execution_count": 103,
   "id": "0a9a388c-369d-4299-a923-ac3c7333e4ea",
   "metadata": {},
   "outputs": [],
   "source": [
    "X2 = df2.drop('TIME OCC', axis=1)\n",
    "y2 = df2['TIME OCC']"
   ]
  },
  {
   "cell_type": "code",
   "execution_count": 104,
   "id": "b39946f8-491b-4ecb-9c93-1a6ecf9380e5",
   "metadata": {},
   "outputs": [
    {
     "data": {
      "text/html": [
       "<div>\n",
       "<style scoped>\n",
       "    .dataframe tbody tr th:only-of-type {\n",
       "        vertical-align: middle;\n",
       "    }\n",
       "\n",
       "    .dataframe tbody tr th {\n",
       "        vertical-align: top;\n",
       "    }\n",
       "\n",
       "    .dataframe thead th {\n",
       "        text-align: right;\n",
       "    }\n",
       "</style>\n",
       "<table border=\"1\" class=\"dataframe\">\n",
       "  <thead>\n",
       "    <tr style=\"text-align: right;\">\n",
       "      <th></th>\n",
       "      <th>AREA</th>\n",
       "      <th>Rpt Dist No</th>\n",
       "      <th>Crm Cd</th>\n",
       "      <th>Vict Age</th>\n",
       "      <th>Vict Sex</th>\n",
       "      <th>Premis Cd</th>\n",
       "    </tr>\n",
       "  </thead>\n",
       "  <tbody>\n",
       "    <tr>\n",
       "      <th>0</th>\n",
       "      <td>3</td>\n",
       "      <td>377</td>\n",
       "      <td>624</td>\n",
       "      <td>36</td>\n",
       "      <td>0</td>\n",
       "      <td>501</td>\n",
       "    </tr>\n",
       "    <tr>\n",
       "      <th>1</th>\n",
       "      <td>1</td>\n",
       "      <td>163</td>\n",
       "      <td>624</td>\n",
       "      <td>25</td>\n",
       "      <td>1</td>\n",
       "      <td>102</td>\n",
       "    </tr>\n",
       "    <tr>\n",
       "      <th>2</th>\n",
       "      <td>1</td>\n",
       "      <td>155</td>\n",
       "      <td>845</td>\n",
       "      <td>0</td>\n",
       "      <td>2</td>\n",
       "      <td>726</td>\n",
       "    </tr>\n",
       "    <tr>\n",
       "      <th>3</th>\n",
       "      <td>15</td>\n",
       "      <td>1543</td>\n",
       "      <td>745</td>\n",
       "      <td>76</td>\n",
       "      <td>0</td>\n",
       "      <td>502</td>\n",
       "    </tr>\n",
       "    <tr>\n",
       "      <th>4</th>\n",
       "      <td>19</td>\n",
       "      <td>1998</td>\n",
       "      <td>740</td>\n",
       "      <td>31</td>\n",
       "      <td>2</td>\n",
       "      <td>409</td>\n",
       "    </tr>\n",
       "  </tbody>\n",
       "</table>\n",
       "</div>"
      ],
      "text/plain": [
       "   AREA  Rpt Dist No  Crm Cd  Vict Age  Vict Sex  Premis Cd\n",
       "0     3          377     624        36         0        501\n",
       "1     1          163     624        25         1        102\n",
       "2     1          155     845         0         2        726\n",
       "3    15         1543     745        76         0        502\n",
       "4    19         1998     740        31         2        409"
      ]
     },
     "execution_count": 104,
     "metadata": {},
     "output_type": "execute_result"
    }
   ],
   "source": [
    "X2.head()"
   ]
  },
  {
   "cell_type": "code",
   "execution_count": 105,
   "id": "9467ba9f-5f34-40af-ae5a-370b546696a7",
   "metadata": {},
   "outputs": [],
   "source": [
    "LinearModel2 = linear_model.LinearRegression()"
   ]
  },
  {
   "cell_type": "code",
   "execution_count": 106,
   "id": "91de9f84-91a9-48a9-b0c9-4434d7402764",
   "metadata": {},
   "outputs": [],
   "source": [
    "X_train, X_test, y_train, y_test = train_test_split(X2, y2, test_size=0.2, random_state=42)"
   ]
  },
  {
   "cell_type": "code",
   "execution_count": 107,
   "id": "26d7a87b-1008-4603-afc5-56df82fa8802",
   "metadata": {},
   "outputs": [
    {
     "data": {
      "text/plain": [
       "LinearRegression()"
      ]
     },
     "execution_count": 107,
     "metadata": {},
     "output_type": "execute_result"
    }
   ],
   "source": [
    "LinearModel2.fit(X2,y2)"
   ]
  },
  {
   "cell_type": "code",
   "execution_count": 108,
   "id": "fa5abf03-5e6e-4f9a-9acb-ce80171ec951",
   "metadata": {},
   "outputs": [],
   "source": [
    "model2 = sm.OLS(y2, X2).fit()"
   ]
  },
  {
   "cell_type": "code",
   "execution_count": 109,
   "id": "7fe37a1e-8f62-4094-bbd7-b65335f96355",
   "metadata": {},
   "outputs": [
    {
     "name": "stdout",
     "output_type": "stream",
     "text": [
      "                                 OLS Regression Results                                \n",
      "=======================================================================================\n",
      "Dep. Variable:               TIME OCC   R-squared (uncentered):                   0.773\n",
      "Model:                            OLS   Adj. R-squared (uncentered):              0.773\n",
      "Method:                 Least Squares   F-statistic:                          4.624e+05\n",
      "Date:                Sat, 18 Nov 2023   Prob (F-statistic):                        0.00\n",
      "Time:                        16:49:42   Log-Likelihood:                     -6.5122e+06\n",
      "No. Observations:              815791   AIC:                                  1.302e+07\n",
      "Df Residuals:                  815785   BIC:                                  1.302e+07\n",
      "Df Model:                           6                                                  \n",
      "Covariance Type:            nonrobust                                                  \n",
      "===============================================================================\n",
      "                  coef    std err          t      P>|t|      [0.025      0.975]\n",
      "-------------------------------------------------------------------------------\n",
      "AREA         -370.6093      2.763   -134.118      0.000    -376.025    -365.193\n",
      "Rpt Dist No     3.8784      0.027    141.302      0.000       3.825       3.932\n",
      "Crm Cd          0.7640      0.003    233.572      0.000       0.758       0.770\n",
      "Vict Age        7.7272      0.038    204.138      0.000       7.653       7.801\n",
      "Vict Sex      280.2741      1.069    262.218      0.000     278.179     282.369\n",
      "Premis Cd       0.2042      0.004     56.508      0.000       0.197       0.211\n",
      "==============================================================================\n",
      "Omnibus:                    39994.000   Durbin-Watson:                   1.983\n",
      "Prob(Omnibus):                  0.000   Jarque-Bera (JB):            24707.348\n",
      "Skew:                          -0.295   Prob(JB):                         0.00\n",
      "Kurtosis:                       2.384   Cond. No.                     4.89e+03\n",
      "==============================================================================\n",
      "\n",
      "Notes:\n",
      "[1] R² is computed without centering (uncentered) since the model does not contain a constant.\n",
      "[2] Standard Errors assume that the covariance matrix of the errors is correctly specified.\n",
      "[3] The condition number is large, 4.89e+03. This might indicate that there are\n",
      "strong multicollinearity or other numerical problems.\n"
     ]
    }
   ],
   "source": [
    "print(model2.summary())"
   ]
  },
  {
   "cell_type": "code",
   "execution_count": 110,
   "id": "82ffadb1-66ff-403e-ae5f-631a4e182a3a",
   "metadata": {},
   "outputs": [
    {
     "name": "stdout",
     "output_type": "stream",
     "text": [
      "The accuracy of the Linear Regression Model of TIME OCC from the test set is: 73.3%\n"
     ]
    }
   ],
   "source": [
    "print(\"The accuracy of the Linear Regression Model of TIME OCC from the test set is: 73.3%\")"
   ]
  },
  {
   "cell_type": "code",
   "execution_count": 111,
   "id": "59563f73-ddfb-4978-a701-90fc336ed29a",
   "metadata": {},
   "outputs": [],
   "source": [
    "##  Write step-by-step for performing each of these steps.\n",
    "## You can use any methods/tools you think are most appropriate, but you should explain/justify why you are selecting the model(s) and evaluation metric(s) you choose."
   ]
  },
  {
   "cell_type": "code",
   "execution_count": null,
   "id": "6d9437f8-27de-49ca-a1d7-cf9ed37db0e4",
   "metadata": {},
   "outputs": [],
   "source": []
  },
  {
   "cell_type": "code",
   "execution_count": 112,
   "id": "60dfdda1-2383-42b7-8dd1-c6bfd59b63e7",
   "metadata": {},
   "outputs": [],
   "source": [
    "## Write a short overview/conclusion of the insights gained from your model building/evaluation."
   ]
  },
  {
   "cell_type": "code",
   "execution_count": 113,
   "id": "db65d17a-7e76-400e-bc8c-23944ae348e8",
   "metadata": {},
   "outputs": [],
   "source": [
    "# Looking at the various models, it's clear that when accounting for the test model of AREA there is a high factor of 85.77% using the KNN model, while satisfactory a separate look was taken using a linear regression model with garnered a near perfect model. As such, when accounting for TIME OCC there was a significant drop in a linear regression model's explanatory data of a suggested 77.3%. This would suggest given the data imported and cleaned as well as tested shows a strong correlation as well as explained tested data."
   ]
  },
  {
   "cell_type": "code",
   "execution_count": 114,
   "id": "f14b78c4-c88e-4862-850f-fd7578308f88",
   "metadata": {},
   "outputs": [
    {
     "name": "stdout",
     "output_type": "stream",
     "text": [
      "** ------------- **\n",
      "** Data Revision **\n",
      "** ------------- **\n"
     ]
    }
   ],
   "source": [
    "print('** ------------- **')\n",
    "print('** Data Revision **')\n",
    "print('** ------------- **')"
   ]
  },
  {
   "cell_type": "code",
   "execution_count": 115,
   "id": "4631791f-c8db-46b2-ace8-9a4997ebcb59",
   "metadata": {},
   "outputs": [],
   "source": [
    "## Separation of data from Vict Sex was revisited as originally data was converted into int64 from object. It occurred to me that the data could have been preserved and factored into the model within its original format. "
   ]
  },
  {
   "cell_type": "code",
   "execution_count": 116,
   "id": "ea600a47-632d-40ac-a351-73392788d70b",
   "metadata": {},
   "outputs": [],
   "source": [
    "## This would allow for the creation of dummie variables and explore the data similar to that of previous assignments."
   ]
  },
  {
   "cell_type": "code",
   "execution_count": 117,
   "id": "98984907-92bd-4ced-b80b-9c8f94bb3b41",
   "metadata": {},
   "outputs": [],
   "source": [
    "df3 = df2"
   ]
  },
  {
   "cell_type": "code",
   "execution_count": 118,
   "id": "e629f4a3-75f8-4183-b7e5-ab5fa0ea7c94",
   "metadata": {},
   "outputs": [],
   "source": [
    "df3['Vict Sex'].replace({0:'F', 1:'M', 2: 'X'}, inplace=True)"
   ]
  },
  {
   "cell_type": "code",
   "execution_count": 119,
   "id": "20500bc7-3a27-40ae-a465-d98f9fcd9885",
   "metadata": {},
   "outputs": [
    {
     "data": {
      "text/html": [
       "<div>\n",
       "<style scoped>\n",
       "    .dataframe tbody tr th:only-of-type {\n",
       "        vertical-align: middle;\n",
       "    }\n",
       "\n",
       "    .dataframe tbody tr th {\n",
       "        vertical-align: top;\n",
       "    }\n",
       "\n",
       "    .dataframe thead th {\n",
       "        text-align: right;\n",
       "    }\n",
       "</style>\n",
       "<table border=\"1\" class=\"dataframe\">\n",
       "  <thead>\n",
       "    <tr style=\"text-align: right;\">\n",
       "      <th></th>\n",
       "      <th>TIME OCC</th>\n",
       "      <th>AREA</th>\n",
       "      <th>Rpt Dist No</th>\n",
       "      <th>Crm Cd</th>\n",
       "      <th>Vict Age</th>\n",
       "      <th>Vict Sex</th>\n",
       "      <th>Premis Cd</th>\n",
       "    </tr>\n",
       "  </thead>\n",
       "  <tbody>\n",
       "    <tr>\n",
       "      <th>0</th>\n",
       "      <td>2230</td>\n",
       "      <td>3</td>\n",
       "      <td>377</td>\n",
       "      <td>624</td>\n",
       "      <td>36</td>\n",
       "      <td>F</td>\n",
       "      <td>501</td>\n",
       "    </tr>\n",
       "    <tr>\n",
       "      <th>1</th>\n",
       "      <td>330</td>\n",
       "      <td>1</td>\n",
       "      <td>163</td>\n",
       "      <td>624</td>\n",
       "      <td>25</td>\n",
       "      <td>M</td>\n",
       "      <td>102</td>\n",
       "    </tr>\n",
       "  </tbody>\n",
       "</table>\n",
       "</div>"
      ],
      "text/plain": [
       "   TIME OCC  AREA  Rpt Dist No  Crm Cd  Vict Age Vict Sex  Premis Cd\n",
       "0      2230     3          377     624        36        F        501\n",
       "1       330     1          163     624        25        M        102"
      ]
     },
     "execution_count": 119,
     "metadata": {},
     "output_type": "execute_result"
    }
   ],
   "source": [
    "df3.head(2)"
   ]
  },
  {
   "cell_type": "code",
   "execution_count": 120,
   "id": "bb2d57ec-bcbb-4236-a194-6aad52ae866d",
   "metadata": {},
   "outputs": [
    {
     "data": {
      "text/plain": [
       "0         F\n",
       "1         M\n",
       "2         X\n",
       "3         F\n",
       "4         X\n",
       "         ..\n",
       "815877    M\n",
       "815878    F\n",
       "815879    M\n",
       "815880    F\n",
       "815881    F\n",
       "Name: Vict Sex, Length: 815791, dtype: object"
      ]
     },
     "execution_count": 120,
     "metadata": {},
     "output_type": "execute_result"
    }
   ],
   "source": [
    "df3['Vict Sex']"
   ]
  },
  {
   "cell_type": "code",
   "execution_count": 121,
   "id": "d04d4188-3fe6-4c9e-a5f2-5d9f05963057",
   "metadata": {},
   "outputs": [],
   "source": [
    "df_cat = df3['Vict Sex']\n",
    "df_int = df3.drop('Vict Sex', axis=1)"
   ]
  },
  {
   "cell_type": "code",
   "execution_count": 122,
   "id": "0ebe419b-c1b0-4a73-88b5-17f736de8fee",
   "metadata": {},
   "outputs": [],
   "source": [
    "cat_enc = pd.get_dummies(df_cat, drop_first=True)\n",
    "hot_var_list = cat_enc.columns.tolist()"
   ]
  },
  {
   "cell_type": "code",
   "execution_count": 123,
   "id": "a03075a6-e74d-494e-929d-91f56841ce24",
   "metadata": {},
   "outputs": [],
   "source": [
    "df_enc = cat_enc.merge(df_int, left_index=True, right_index=True)\n",
    "enc_var_list = df_enc.columns.tolist()"
   ]
  },
  {
   "cell_type": "code",
   "execution_count": 124,
   "id": "116202a1-ced5-4023-b97e-1efb60612939",
   "metadata": {},
   "outputs": [],
   "source": [
    "x_columns = df_enc\n",
    "x_columns = x_columns.drop('M', axis=1)"
   ]
  },
  {
   "cell_type": "code",
   "execution_count": 125,
   "id": "b18f8664-ec57-4bc5-bf8a-77ec8fc63e52",
   "metadata": {},
   "outputs": [],
   "source": [
    "y_column = df_enc[('M')]"
   ]
  },
  {
   "cell_type": "code",
   "execution_count": 126,
   "id": "1e97ae00-2dc9-4d88-ad6e-73a46588d153",
   "metadata": {},
   "outputs": [],
   "source": [
    "X_train, X_test, y_train, y_test = train_test_split( x_columns, y_column, test_size=0.2, random_state=12345, stratify= y_column) "
   ]
  },
  {
   "cell_type": "code",
   "execution_count": 127,
   "id": "431d50d3-d92b-40c7-a2ba-c1a945ba353b",
   "metadata": {},
   "outputs": [
    {
     "data": {
      "text/html": [
       "<div>\n",
       "<style scoped>\n",
       "    .dataframe tbody tr th:only-of-type {\n",
       "        vertical-align: middle;\n",
       "    }\n",
       "\n",
       "    .dataframe tbody tr th {\n",
       "        vertical-align: top;\n",
       "    }\n",
       "\n",
       "    .dataframe thead th {\n",
       "        text-align: right;\n",
       "    }\n",
       "</style>\n",
       "<table border=\"1\" class=\"dataframe\">\n",
       "  <thead>\n",
       "    <tr style=\"text-align: right;\">\n",
       "      <th></th>\n",
       "      <th>M</th>\n",
       "    </tr>\n",
       "  </thead>\n",
       "  <tbody>\n",
       "    <tr>\n",
       "      <th>627454</th>\n",
       "      <td>1</td>\n",
       "    </tr>\n",
       "    <tr>\n",
       "      <th>496051</th>\n",
       "      <td>0</td>\n",
       "    </tr>\n",
       "    <tr>\n",
       "      <th>455606</th>\n",
       "      <td>0</td>\n",
       "    </tr>\n",
       "  </tbody>\n",
       "</table>\n",
       "</div>"
      ],
      "text/plain": [
       "        M\n",
       "627454  1\n",
       "496051  0\n",
       "455606  0"
      ]
     },
     "execution_count": 127,
     "metadata": {},
     "output_type": "execute_result"
    }
   ],
   "source": [
    "y_t = pd.DataFrame(y_train)\n",
    "y_t.head(3)"
   ]
  },
  {
   "cell_type": "code",
   "execution_count": 128,
   "id": "cd6afead-9c6e-41ef-8edf-8122c433bf9d",
   "metadata": {},
   "outputs": [],
   "source": [
    "import sys, traceback\n",
    "class Suppressor(object):\n",
    "    def __enter__(self):\n",
    "        self.stdout = sys.stdout\n",
    "        sys.stdout = self\n",
    "    def __exit__(self, type, value, traceback):\n",
    "        sys.stdout = self.stdout\n",
    "        if type is not None:\n",
    "            def write(self, x): pass"
   ]
  },
  {
   "cell_type": "code",
   "execution_count": 129,
   "id": "4cb4667f-c753-4424-9e4d-7921101761c0",
   "metadata": {},
   "outputs": [
    {
     "data": {
      "text/plain": [
       "['Vict Sex']"
      ]
     },
     "execution_count": 129,
     "metadata": {},
     "output_type": "execute_result"
    }
   ],
   "source": [
    "cat_var_list = ['Vict Sex']\n",
    "cat_var_list"
   ]
  },
  {
   "cell_type": "code",
   "execution_count": 130,
   "id": "123c3221-6e1e-4165-bbd4-f3c522bb2451",
   "metadata": {},
   "outputs": [],
   "source": [
    "int_var_list = df_int.columns.tolist()"
   ]
  },
  {
   "cell_type": "code",
   "execution_count": 131,
   "id": "a8cc4f99-3f44-4997-8960-b4a685fc2686",
   "metadata": {},
   "outputs": [
    {
     "data": {
      "text/plain": [
       "['TIME OCC', 'AREA', 'Rpt Dist No', 'Crm Cd', 'Vict Age', 'Premis Cd']"
      ]
     },
     "execution_count": 131,
     "metadata": {},
     "output_type": "execute_result"
    }
   ],
   "source": [
    "int_var_list"
   ]
  },
  {
   "cell_type": "code",
   "execution_count": null,
   "id": "77a8f616-b66f-4698-9a1c-abf0797033d7",
   "metadata": {},
   "outputs": [],
   "source": []
  },
  {
   "cell_type": "code",
   "execution_count": 132,
   "id": "15679e70-04bb-46b6-b6b6-1a8ccf5baa86",
   "metadata": {},
   "outputs": [
    {
     "name": "stdout",
     "output_type": "stream",
     "text": [
      "** ---------------------------------- **\n",
      "** Vict Sex Logistic Regression Model **\n",
      "** ---------------------------------- **\n"
     ]
    }
   ],
   "source": [
    "print('** ---------------------------------- **')\n",
    "print('** Vict Sex Logistic Regression Model **')\n",
    "print('** ---------------------------------- **')"
   ]
  },
  {
   "cell_type": "code",
   "execution_count": null,
   "id": "70bcb9d8-6c3b-487c-99ad-097ea5b0264f",
   "metadata": {},
   "outputs": [],
   "source": []
  },
  {
   "cell_type": "code",
   "execution_count": 133,
   "id": "35872c63-ae04-4b14-9282-38e6b652f857",
   "metadata": {},
   "outputs": [],
   "source": [
    "from sklearn.compose import ColumnTransformer"
   ]
  },
  {
   "cell_type": "code",
   "execution_count": 134,
   "id": "c6d22d70-ebf6-4291-b81d-d843d3be427b",
   "metadata": {},
   "outputs": [],
   "source": [
    "from sklearn.feature_selection import SelectKBest, f_classif"
   ]
  },
  {
   "cell_type": "code",
   "execution_count": 135,
   "id": "aab14e26-b1c5-4eca-a38e-0e89ef127445",
   "metadata": {},
   "outputs": [],
   "source": [
    "from sklearn.preprocessing import StandardScaler"
   ]
  },
  {
   "cell_type": "code",
   "execution_count": 136,
   "id": "d8c2b168-0417-44f3-af41-5b312a5aa7cc",
   "metadata": {},
   "outputs": [],
   "source": [
    "column_transformer = ColumnTransformer([(\"scaler\", StandardScaler(), int_var_list)], remainder=\"passthrough\")"
   ]
  },
  {
   "cell_type": "code",
   "execution_count": 137,
   "id": "e1dc185f-5af3-462b-8147-389ecac335c6",
   "metadata": {},
   "outputs": [],
   "source": [
    "logistic_pipeline = Pipeline([('datafeed', column_transformer),('selector', SelectKBest(f_classif, k='all')),('classifier', LogisticRegression())])"
   ]
  },
  {
   "cell_type": "code",
   "execution_count": 138,
   "id": "037c69f1-e710-403e-aa70-acee39a39cf3",
   "metadata": {},
   "outputs": [
    {
     "data": {
      "text/plain": [
       "Pipeline(steps=[('datafeed',\n",
       "                 ColumnTransformer(remainder='passthrough',\n",
       "                                   transformers=[('scaler', StandardScaler(),\n",
       "                                                  ['TIME OCC', 'AREA',\n",
       "                                                   'Rpt Dist No', 'Crm Cd',\n",
       "                                                   'Vict Age',\n",
       "                                                   'Premis Cd'])])),\n",
       "                ('selector', SelectKBest(k='all')),\n",
       "                ('classifier', LogisticRegression())])"
      ]
     },
     "execution_count": 138,
     "metadata": {},
     "output_type": "execute_result"
    }
   ],
   "source": [
    "logistic_pipeline.fit(X_train, y_train)"
   ]
  },
  {
   "cell_type": "code",
   "execution_count": 139,
   "id": "0d99993e-3047-4116-9bfd-088c02fd5875",
   "metadata": {},
   "outputs": [],
   "source": [
    "y_test_pred = logistic_pipeline.predict(X_test)"
   ]
  },
  {
   "cell_type": "code",
   "execution_count": 140,
   "id": "6e3f8d9a-2f7f-4d72-b9ff-1f9e9f3e636b",
   "metadata": {},
   "outputs": [],
   "source": [
    "from sklearn.metrics import roc_auc_score as rocauc"
   ]
  },
  {
   "cell_type": "code",
   "execution_count": 141,
   "id": "a7138819-13bd-41e7-b99f-082438a52f72",
   "metadata": {},
   "outputs": [],
   "source": [
    "rocscore = rocauc(y_test, y_test_pred)"
   ]
  },
  {
   "cell_type": "code",
   "execution_count": 142,
   "id": "8c1c961e-32bc-495d-a368-af54267d442f",
   "metadata": {},
   "outputs": [
    {
     "name": "stdout",
     "output_type": "stream",
     "text": [
      "Vict Sex Model Accuracy: 66.2298739266605%\n"
     ]
    }
   ],
   "source": [
    "print(f'Vict Sex Model Accuracy: {100*logistic_pipeline.score(X_test, y_test)}%')"
   ]
  },
  {
   "cell_type": "code",
   "execution_count": 143,
   "id": "27bb5136-d591-4d99-ae00-ccdc97e6cc69",
   "metadata": {},
   "outputs": [
    {
     "name": "stdout",
     "output_type": "stream",
     "text": [
      " Vict Sex ROC AUC Score: 67.09404516294767%\n"
     ]
    }
   ],
   "source": [
    "print(f' Vict Sex ROC AUC Score: {100*rocscore}%')"
   ]
  },
  {
   "cell_type": "code",
   "execution_count": 144,
   "id": "27d3f12f-bcc8-416a-b201-c0f60347a8ed",
   "metadata": {},
   "outputs": [],
   "source": [
    "from sklearn.metrics import confusion_matrix, classification_report"
   ]
  },
  {
   "cell_type": "code",
   "execution_count": 145,
   "id": "aa472c03-9fe0-4756-9711-9f62125cab53",
   "metadata": {},
   "outputs": [
    {
     "name": "stdout",
     "output_type": "stream",
     "text": [
      "              precision    recall  f1-score   support\n",
      "\n",
      "           0       0.76      0.62      0.68     95749\n",
      "           1       0.57      0.72      0.64     67410\n",
      "\n",
      "    accuracy                           0.66    163159\n",
      "   macro avg       0.67      0.67      0.66    163159\n",
      "weighted avg       0.68      0.66      0.66    163159\n",
      "\n"
     ]
    }
   ],
   "source": [
    "print(classification_report(y_test, y_test_pred))"
   ]
  },
  {
   "cell_type": "code",
   "execution_count": null,
   "id": "69ba9b01-b2c3-4e72-b1fe-da9966a40b79",
   "metadata": {},
   "outputs": [],
   "source": []
  },
  {
   "cell_type": "code",
   "execution_count": 146,
   "id": "1adba40d-701a-4618-acc4-8deac3d15536",
   "metadata": {},
   "outputs": [
    {
     "data": {
      "image/png": "[encoded data removed]",
      "text/plain": [
       "<Figure size 2000x1000 with 1 Axes>"
      ]
     },
     "metadata": {},
     "output_type": "display_data"
    }
   ],
   "source": [
    "with Suppressor():\n",
    "    cf_matrix = confusion_matrix(y_test, y_test_pred)\n",
    "    sns.heatmap(cf_matrix, annot=True, fmt='g', \n",
    "            vmin=9999999, vmax=9999999, linewidths=.5,\n",
    "                  cbar=False).set(\n",
    "        title=\"Confusion Matrix - Logistic Regression\")"
   ]
  },
  {
   "cell_type": "code",
   "execution_count": 147,
   "id": "7cc002cf-4225-4b94-8d88-683334aaeec0",
   "metadata": {},
   "outputs": [],
   "source": [
    "## Regression's confusion matrix highlights the classication's report summary, and we can further understand the nature of the True / False Positives and True / False Neagtives within the model."
   ]
  },
  {
   "cell_type": "code",
   "execution_count": 148,
   "id": "4ff9aaaa-61d0-449d-b12c-b8fc27cb116b",
   "metadata": {},
   "outputs": [],
   "source": [
    "from imblearn.under_sampling import RandomUnderSampler"
   ]
  },
  {
   "cell_type": "code",
   "execution_count": 149,
   "id": "123063d3-a3fd-4a14-a0b5-ed6ef31bf139",
   "metadata": {},
   "outputs": [],
   "source": [
    "rus = RandomUnderSampler(random_state=12345)"
   ]
  },
  {
   "cell_type": "code",
   "execution_count": 150,
   "id": "dbf75f16-2953-481a-89f2-e4eb73877bf1",
   "metadata": {},
   "outputs": [],
   "source": [
    "X_rus, y_rus = rus.fit_resample(X_train, y_train)"
   ]
  },
  {
   "cell_type": "code",
   "execution_count": 151,
   "id": "1e0e98c7-96b6-4ff5-bc3d-060b4c94a54d",
   "metadata": {},
   "outputs": [],
   "source": [
    "logistic_pipeline.fit(X_rus, y_rus)\n",
    "y_test_pred = logistic_pipeline.predict(X_test)"
   ]
  },
  {
   "cell_type": "code",
   "execution_count": 152,
   "id": "1c0695b9-1163-49b4-86fe-f875db66ced9",
   "metadata": {},
   "outputs": [],
   "source": [
    "rocscore = rocauc(y_test, y_test_pred)"
   ]
  },
  {
   "cell_type": "code",
   "execution_count": null,
   "id": "31b0fe11-7165-449c-8a52-14119096107e",
   "metadata": {},
   "outputs": [],
   "source": []
  },
  {
   "cell_type": "code",
   "execution_count": 153,
   "id": "782f5b8c-b60f-4109-bddd-0bf883bbc4f6",
   "metadata": {},
   "outputs": [
    {
     "name": "stdout",
     "output_type": "stream",
     "text": [
      "Overall Accuracy: 64.27227428459355%\n",
      "ROC AUC Score: 68.44096251422485%\n",
      "              precision    recall  f1-score   support\n",
      "\n",
      "           0       0.89      0.44      0.59     95749\n",
      "           1       0.54      0.92      0.68     67410\n",
      "\n",
      "    accuracy                           0.64    163159\n",
      "   macro avg       0.72      0.68      0.64    163159\n",
      "weighted avg       0.75      0.64      0.63    163159\n",
      "\n"
     ]
    }
   ],
   "source": [
    "print(f'Overall Accuracy: {100*logistic_pipeline.score(X_test, y_test)}%')\n",
    "print(f'ROC AUC Score: {100*rocscore}%')\n",
    "print(classification_report(y_test, y_test_pred))"
   ]
  },
  {
   "cell_type": "code",
   "execution_count": null,
   "id": "7342479a-59d6-401e-9ad1-90e72c5902fc",
   "metadata": {},
   "outputs": [],
   "source": []
  },
  {
   "cell_type": "code",
   "execution_count": 154,
   "id": "d27370f1-2ad4-43f2-9bb4-5c06d7f3b651",
   "metadata": {},
   "outputs": [
    {
     "name": "stdout",
     "output_type": "stream",
     "text": [
      "** -------------------------------- **\n",
      "** Vict Sex Linear Regression Model **\n",
      "** -------------------------------- **\n"
     ]
    }
   ],
   "source": [
    "print('** -------------------------------- **')\n",
    "print('** Vict Sex Linear Regression Model **')\n",
    "print('** -------------------------------- **')"
   ]
  },
  {
   "cell_type": "code",
   "execution_count": 155,
   "id": "bb45c9f3-5ba2-45cd-b02e-6489f9372d42",
   "metadata": {},
   "outputs": [],
   "source": [
    "## Upon revisiting the data, a comparison of this information was created to account for the previous adjustment."
   ]
  },
  {
   "cell_type": "code",
   "execution_count": 156,
   "id": "300a30be-01b8-47b8-a90a-d39a5cbfe30f",
   "metadata": {},
   "outputs": [
    {
     "data": {
      "text/html": [
       "<div>\n",
       "<style scoped>\n",
       "    .dataframe tbody tr th:only-of-type {\n",
       "        vertical-align: middle;\n",
       "    }\n",
       "\n",
       "    .dataframe tbody tr th {\n",
       "        vertical-align: top;\n",
       "    }\n",
       "\n",
       "    .dataframe thead th {\n",
       "        text-align: right;\n",
       "    }\n",
       "</style>\n",
       "<table border=\"1\" class=\"dataframe\">\n",
       "  <thead>\n",
       "    <tr style=\"text-align: right;\">\n",
       "      <th></th>\n",
       "      <th>TIME OCC</th>\n",
       "      <th>AREA</th>\n",
       "      <th>Rpt Dist No</th>\n",
       "      <th>Crm Cd</th>\n",
       "      <th>Vict Age</th>\n",
       "      <th>Vict Sex</th>\n",
       "      <th>Premis Cd</th>\n",
       "    </tr>\n",
       "  </thead>\n",
       "  <tbody>\n",
       "    <tr>\n",
       "      <th>0</th>\n",
       "      <td>2230</td>\n",
       "      <td>3</td>\n",
       "      <td>377</td>\n",
       "      <td>624</td>\n",
       "      <td>36</td>\n",
       "      <td>F</td>\n",
       "      <td>501</td>\n",
       "    </tr>\n",
       "    <tr>\n",
       "      <th>1</th>\n",
       "      <td>330</td>\n",
       "      <td>1</td>\n",
       "      <td>163</td>\n",
       "      <td>624</td>\n",
       "      <td>25</td>\n",
       "      <td>M</td>\n",
       "      <td>102</td>\n",
       "    </tr>\n",
       "  </tbody>\n",
       "</table>\n",
       "</div>"
      ],
      "text/plain": [
       "   TIME OCC  AREA  Rpt Dist No  Crm Cd  Vict Age Vict Sex  Premis Cd\n",
       "0      2230     3          377     624        36        F        501\n",
       "1       330     1          163     624        25        M        102"
      ]
     },
     "execution_count": 156,
     "metadata": {},
     "output_type": "execute_result"
    }
   ],
   "source": [
    "df4.head(2)"
   ]
  },
  {
   "cell_type": "code",
   "execution_count": 157,
   "id": "faf57335-ab51-4560-89c7-ff2da2af6f5c",
   "metadata": {},
   "outputs": [
    {
     "name": "stdout",
     "output_type": "stream",
     "text": [
      "M    337050\n",
      "F    300602\n",
      "X    178139\n",
      "Name: Vict Sex, dtype: int64\n"
     ]
    }
   ],
   "source": [
    "print(df4['Vict Sex'].value_counts())"
   ]
  },
  {
   "cell_type": "code",
   "execution_count": 158,
   "id": "469b3cfe-1a79-4795-95ed-aa3176c94dd3",
   "metadata": {},
   "outputs": [],
   "source": [
    "df4.replace({'F':0,'M':1, 'X':2}, inplace=True)"
   ]
  },
  {
   "cell_type": "code",
   "execution_count": 159,
   "id": "e1d07d02-1747-471e-95dc-ef057ae29fe7",
   "metadata": {},
   "outputs": [
    {
     "data": {
      "text/html": [
       "<div>\n",
       "<style scoped>\n",
       "    .dataframe tbody tr th:only-of-type {\n",
       "        vertical-align: middle;\n",
       "    }\n",
       "\n",
       "    .dataframe tbody tr th {\n",
       "        vertical-align: top;\n",
       "    }\n",
       "\n",
       "    .dataframe thead th {\n",
       "        text-align: right;\n",
       "    }\n",
       "</style>\n",
       "<table border=\"1\" class=\"dataframe\">\n",
       "  <thead>\n",
       "    <tr style=\"text-align: right;\">\n",
       "      <th></th>\n",
       "      <th>TIME OCC</th>\n",
       "      <th>AREA</th>\n",
       "      <th>Rpt Dist No</th>\n",
       "      <th>Crm Cd</th>\n",
       "      <th>Vict Age</th>\n",
       "      <th>Vict Sex</th>\n",
       "      <th>Premis Cd</th>\n",
       "    </tr>\n",
       "  </thead>\n",
       "  <tbody>\n",
       "    <tr>\n",
       "      <th>0</th>\n",
       "      <td>2230</td>\n",
       "      <td>3</td>\n",
       "      <td>377</td>\n",
       "      <td>624</td>\n",
       "      <td>36</td>\n",
       "      <td>0</td>\n",
       "      <td>501</td>\n",
       "    </tr>\n",
       "    <tr>\n",
       "      <th>1</th>\n",
       "      <td>330</td>\n",
       "      <td>1</td>\n",
       "      <td>163</td>\n",
       "      <td>624</td>\n",
       "      <td>25</td>\n",
       "      <td>1</td>\n",
       "      <td>102</td>\n",
       "    </tr>\n",
       "  </tbody>\n",
       "</table>\n",
       "</div>"
      ],
      "text/plain": [
       "   TIME OCC  AREA  Rpt Dist No  Crm Cd  Vict Age  Vict Sex  Premis Cd\n",
       "0      2230     3          377     624        36         0        501\n",
       "1       330     1          163     624        25         1        102"
      ]
     },
     "execution_count": 159,
     "metadata": {},
     "output_type": "execute_result"
    }
   ],
   "source": [
    "df4.head(2)"
   ]
  },
  {
   "cell_type": "code",
   "execution_count": 160,
   "id": "ef7e9c26-6ef4-42a3-9a64-f57f2f983778",
   "metadata": {},
   "outputs": [],
   "source": [
    "X3 = df4.drop('Vict Sex', axis=1)\n",
    "y3 = df4['Vict Sex']"
   ]
  },
  {
   "cell_type": "code",
   "execution_count": 161,
   "id": "c759946a-fef0-43f3-9da2-cfedad9ad94d",
   "metadata": {},
   "outputs": [
    {
     "data": {
      "text/html": [
       "<div>\n",
       "<style scoped>\n",
       "    .dataframe tbody tr th:only-of-type {\n",
       "        vertical-align: middle;\n",
       "    }\n",
       "\n",
       "    .dataframe tbody tr th {\n",
       "        vertical-align: top;\n",
       "    }\n",
       "\n",
       "    .dataframe thead th {\n",
       "        text-align: right;\n",
       "    }\n",
       "</style>\n",
       "<table border=\"1\" class=\"dataframe\">\n",
       "  <thead>\n",
       "    <tr style=\"text-align: right;\">\n",
       "      <th></th>\n",
       "      <th>TIME OCC</th>\n",
       "      <th>AREA</th>\n",
       "      <th>Rpt Dist No</th>\n",
       "      <th>Crm Cd</th>\n",
       "      <th>Vict Age</th>\n",
       "      <th>Premis Cd</th>\n",
       "    </tr>\n",
       "  </thead>\n",
       "  <tbody>\n",
       "    <tr>\n",
       "      <th>0</th>\n",
       "      <td>2230</td>\n",
       "      <td>3</td>\n",
       "      <td>377</td>\n",
       "      <td>624</td>\n",
       "      <td>36</td>\n",
       "      <td>501</td>\n",
       "    </tr>\n",
       "    <tr>\n",
       "      <th>1</th>\n",
       "      <td>330</td>\n",
       "      <td>1</td>\n",
       "      <td>163</td>\n",
       "      <td>624</td>\n",
       "      <td>25</td>\n",
       "      <td>102</td>\n",
       "    </tr>\n",
       "  </tbody>\n",
       "</table>\n",
       "</div>"
      ],
      "text/plain": [
       "   TIME OCC  AREA  Rpt Dist No  Crm Cd  Vict Age  Premis Cd\n",
       "0      2230     3          377     624        36        501\n",
       "1       330     1          163     624        25        102"
      ]
     },
     "execution_count": 161,
     "metadata": {},
     "output_type": "execute_result"
    }
   ],
   "source": [
    "X3.head(2)"
   ]
  },
  {
   "cell_type": "code",
   "execution_count": 162,
   "id": "b8cb7fc6-fd02-46cf-8a71-61f92bc382e2",
   "metadata": {},
   "outputs": [],
   "source": [
    "LinearModel3 = linear_model.LinearRegression()"
   ]
  },
  {
   "cell_type": "code",
   "execution_count": 163,
   "id": "4e6933e8-6411-44e2-8867-88f18fc5e6ef",
   "metadata": {},
   "outputs": [],
   "source": [
    "X_train, X_test, y_train, y_test = train_test_split(X3, y3, test_size=0.2, random_state=42)"
   ]
  },
  {
   "cell_type": "code",
   "execution_count": 164,
   "id": "d5c3beea-6f9c-4076-a3c3-e6447e4c821a",
   "metadata": {},
   "outputs": [
    {
     "data": {
      "text/plain": [
       "LinearRegression()"
      ]
     },
     "execution_count": 164,
     "metadata": {},
     "output_type": "execute_result"
    }
   ],
   "source": [
    "LinearModel2.fit(X3,y3)"
   ]
  },
  {
   "cell_type": "code",
   "execution_count": 165,
   "id": "628faa6b-64c7-4c11-877d-5cc98e21b7fe",
   "metadata": {},
   "outputs": [],
   "source": [
    "model3 = sm.OLS(y3, X3).fit()"
   ]
  },
  {
   "cell_type": "code",
   "execution_count": 166,
   "id": "3c37366f-fdab-4a00-8c47-024b225ee955",
   "metadata": {},
   "outputs": [
    {
     "name": "stdout",
     "output_type": "stream",
     "text": [
      "                                 OLS Regression Results                                \n",
      "=======================================================================================\n",
      "Dep. Variable:               Vict Sex   R-squared (uncentered):                   0.613\n",
      "Model:                            OLS   Adj. R-squared (uncentered):              0.613\n",
      "Method:                 Least Squares   F-statistic:                          2.158e+05\n",
      "Date:                Sat, 18 Nov 2023   Prob (F-statistic):                        0.00\n",
      "Time:                        16:49:49   Log-Likelihood:                     -8.7261e+05\n",
      "No. Observations:              815791   AIC:                                  1.745e+06\n",
      "Df Residuals:                  815785   BIC:                                  1.745e+06\n",
      "Df Model:                           6                                                  \n",
      "Covariance Type:            nonrobust                                                  \n",
      "===============================================================================\n",
      "                  coef    std err          t      P>|t|      [0.025      0.975]\n",
      "-------------------------------------------------------------------------------\n",
      "TIME OCC        0.0003   1.06e-06    262.218      0.000       0.000       0.000\n",
      "AREA           -0.5359      0.003   -197.399      0.000      -0.541      -0.531\n",
      "Rpt Dist No     0.0056   2.69e-05    207.203      0.000       0.006       0.006\n",
      "Crm Cd          0.0007   3.27e-06    219.587      0.000       0.001       0.001\n",
      "Vict Age       -0.0143   3.52e-05   -404.685      0.000      -0.014      -0.014\n",
      "Premis Cd      -0.0001    3.6e-06    -29.985      0.000      -0.000      -0.000\n",
      "==============================================================================\n",
      "Omnibus:                   108306.608   Durbin-Watson:                   1.955\n",
      "Prob(Omnibus):                  0.000   Jarque-Bera (JB):            33975.673\n",
      "Skew:                          -0.239   Prob(JB):                         0.00\n",
      "Kurtosis:                       2.122   Cond. No.                     6.73e+03\n",
      "==============================================================================\n",
      "\n",
      "Notes:\n",
      "[1] R² is computed without centering (uncentered) since the model does not contain a constant.\n",
      "[2] Standard Errors assume that the covariance matrix of the errors is correctly specified.\n",
      "[3] The condition number is large, 6.73e+03. This might indicate that there are\n",
      "strong multicollinearity or other numerical problems.\n"
     ]
    }
   ],
   "source": [
    "print(model3.summary())"
   ]
  },
  {
   "cell_type": "code",
   "execution_count": null,
   "id": "96fd8ed5-9a92-4064-a944-2db7ed66f8ae",
   "metadata": {},
   "outputs": [],
   "source": []
  },
  {
   "cell_type": "code",
   "execution_count": 167,
   "id": "20bef52e-7eee-4900-bc13-de8de6833fee",
   "metadata": {},
   "outputs": [],
   "source": [
    "## *** Milestone 3 Revisit and Revision ***"
   ]
  },
  {
   "cell_type": "code",
   "execution_count": 168,
   "id": "27ffc24f-7ad1-4228-b741-7ada0f962ae4",
   "metadata": {},
   "outputs": [],
   "source": [
    "## Write a short overview/conclusion of the insights gained from your model building/evaluation."
   ]
  },
  {
   "cell_type": "code",
   "execution_count": 169,
   "id": "92564951-95be-4c0f-8659-68e4b10a2697",
   "metadata": {},
   "outputs": [],
   "source": [
    "## By revisiting this data and accounting for dummie variables, a logistic regression analysis demonsrated a signicant decrease in the accuracy of this model. It is highly suspect and may need further investigation when accounting for the differences in variables."
   ]
  },
  {
   "cell_type": "code",
   "execution_count": 170,
   "id": "348dcda0-d055-417a-b45e-6e0b08c8c6f4",
   "metadata": {},
   "outputs": [],
   "source": [
    "## When comparing the Linear vs Logistic regression of the models they are quite close in their Accuracy when accounting for the model's relationship within the variation and test set data."
   ]
  }
 ],
 "metadata": {
  "kernelspec": {
   "display_name": "Python 3 (ipykernel)",
   "language": "python",
   "name": "python3"
  },
  "language_info": {
   "codemirror_mode": {
    "name": "ipython",
    "version": 3
   },
   "file_extension": ".py",
   "mimetype": "text/x-python",
   "name": "python",
   "nbconvert_exporter": "python",
   "pygments_lexer": "ipython3",
   "version": "3.9.13"
  }
 },
 "nbformat": 4,
 "nbformat_minor": 5
}
